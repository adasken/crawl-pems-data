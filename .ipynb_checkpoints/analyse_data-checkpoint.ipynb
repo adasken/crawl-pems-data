{
 "cells": [
  {
   "cell_type": "code",
   "execution_count": 2,
   "metadata": {},
   "outputs": [],
   "source": [
    "import pandas as pd\n",
    "import numpy as np"
   ]
  },
  {
   "cell_type": "markdown",
   "metadata": {},
   "source": [
    "# Loading the data in"
   ]
  },
  {
   "cell_type": "code",
   "execution_count": 3,
   "metadata": {},
   "outputs": [],
   "source": [
    "five_min = pd.read_csv(\"./data/speeds/d07_text_station_5min_2012_09_06.txt.gz\", compression=\"gzip\", header=None)"
   ]
  },
  {
   "cell_type": "markdown",
   "metadata": {},
   "source": [
    "### Changing header names"
   ]
  },
  {
   "cell_type": "code",
   "execution_count": 3,
   "metadata": {},
   "outputs": [],
   "source": [
    "colnames = five_min.columns\n",
    "beginning_names = [\"Timestamp\",  \n",
    "                   \"Station\", # Unique station identifier. Use this value to cross-reference with Metadata files. \n",
    "                   \"District\", \n",
    "                   \"Freeway#\",\n",
    "                   'Direction', # Direction of Travel\tN | S | E | W\n",
    "                   \"Lane Type\", # A string indicating the type of lane. CD (Coll/Dist); CH (Conventional Highway); FF (Fwy-Fwy connector); FR (Off Ramp); HV (HOV); ML (Mainline); OR (On Ramp)\n",
    "                   \"Station Length\", # Segment length covered by the station in miles/km.\n",
    "                   \"numSamples\", # Total number of samples received for all lanes.\n",
    "                   \"percentObs\", # (%) Percentage of individual lane points at this location that were observed (e.g. not imputed).\n",
    "                   \"Total Flow\", # (Veh/5-min) Sum of flows over the 5-minute period across all lanes. Note that the basic 5-minute rollup normalizes flow by the number of good samples received from the controller.\n",
    "                   \"Avg Occupancy\", # (%) Average occupancy across all lanes over the 5-minute period expressed as a decimal number between 0 and 1. \n",
    "                   \"Avg Speed\", # (mph) Flow-weighted average speed over the 5-minute period across all lanes. If flow is 0, mathematical average of 5-minute station speeds.\n",
    "                   \"Lane N Samples\", # Number of good samples received for lane N. N ranges from 1 to the number of lanes at the location.\n",
    "                   \"Lane N Flow\", # (Veh/5-min) Total flow for lane N over the 5-minute period normalized by the number of good samples.\n",
    "                   \"Lane N Avg Occ\", # (%) Average occupancy for lane N expressed as a decimal number between 0 and 1. N ranges from 1 to the number of lanes at the location.\n",
    "                   \"Lane N Avg Speed\", # (mph) Flow-weighted average of lane N speeds. If flow is 0, mathematical average of 5-minute lane speeds. N ranges from 1 to the number of lanes\n",
    "                   \"Lane N Observed\"] # 1 indicates observed data, 0 indicates imputed.\n",
    "new_names = beginning_names + list(colnames[len(beginning_names):])\n",
    "five_min.columns = new_names"
   ]
  },
  {
   "cell_type": "code",
   "execution_count": 4,
   "metadata": {
    "scrolled": true
   },
   "outputs": [
    {
     "data": {
      "text/html": [
       "<div>\n",
       "<style scoped>\n",
       "    .dataframe tbody tr th:only-of-type {\n",
       "        vertical-align: middle;\n",
       "    }\n",
       "\n",
       "    .dataframe tbody tr th {\n",
       "        vertical-align: top;\n",
       "    }\n",
       "\n",
       "    .dataframe thead th {\n",
       "        text-align: right;\n",
       "    }\n",
       "</style>\n",
       "<table border=\"1\" class=\"dataframe\">\n",
       "  <thead>\n",
       "    <tr style=\"text-align: right;\">\n",
       "      <th></th>\n",
       "      <th>Timestamp</th>\n",
       "      <th>Station</th>\n",
       "      <th>District</th>\n",
       "      <th>Freeway#</th>\n",
       "      <th>Direction</th>\n",
       "      <th>Lane Type</th>\n",
       "      <th>Station Length</th>\n",
       "      <th>numSamples</th>\n",
       "      <th>percentObs</th>\n",
       "      <th>Total Flow</th>\n",
       "      <th>Avg Occupancy</th>\n",
       "      <th>Avg Speed</th>\n",
       "      <th>Lane N Samples</th>\n",
       "      <th>Lane N Flow</th>\n",
       "      <th>Lane N Avg Occ</th>\n",
       "      <th>Lane N Avg Speed</th>\n",
       "      <th>Lane N Observed</th>\n",
       "      <th>17</th>\n",
       "      <th>18</th>\n",
       "      <th>19</th>\n",
       "    </tr>\n",
       "  </thead>\n",
       "  <tbody>\n",
       "    <tr>\n",
       "      <th>0</th>\n",
       "      <td>09/06/2012 00:00:00</td>\n",
       "      <td>715898</td>\n",
       "      <td>7</td>\n",
       "      <td>5</td>\n",
       "      <td>S</td>\n",
       "      <td>ML</td>\n",
       "      <td>0.43</td>\n",
       "      <td>30</td>\n",
       "      <td>100</td>\n",
       "      <td>147.0</td>\n",
       "      <td>0.0372</td>\n",
       "      <td>69.2</td>\n",
       "      <td>10</td>\n",
       "      <td>43.0</td>\n",
       "      <td>0.0236</td>\n",
       "      <td>71.9</td>\n",
       "      <td>1</td>\n",
       "      <td>10.0</td>\n",
       "      <td>62.0</td>\n",
       "      <td>0.0384</td>\n",
       "    </tr>\n",
       "    <tr>\n",
       "      <th>1</th>\n",
       "      <td>09/06/2012 00:00:00</td>\n",
       "      <td>715900</td>\n",
       "      <td>7</td>\n",
       "      <td>5</td>\n",
       "      <td>S</td>\n",
       "      <td>OR</td>\n",
       "      <td>NaN</td>\n",
       "      <td>10</td>\n",
       "      <td>0</td>\n",
       "      <td>NaN</td>\n",
       "      <td>NaN</td>\n",
       "      <td>NaN</td>\n",
       "      <td>10</td>\n",
       "      <td>NaN</td>\n",
       "      <td>NaN</td>\n",
       "      <td>NaN</td>\n",
       "      <td>0</td>\n",
       "      <td>NaN</td>\n",
       "      <td>NaN</td>\n",
       "      <td>NaN</td>\n",
       "    </tr>\n",
       "    <tr>\n",
       "      <th>2</th>\n",
       "      <td>09/06/2012 00:00:00</td>\n",
       "      <td>715901</td>\n",
       "      <td>7</td>\n",
       "      <td>5</td>\n",
       "      <td>N</td>\n",
       "      <td>OR</td>\n",
       "      <td>NaN</td>\n",
       "      <td>0</td>\n",
       "      <td>0</td>\n",
       "      <td>NaN</td>\n",
       "      <td>NaN</td>\n",
       "      <td>NaN</td>\n",
       "      <td>0</td>\n",
       "      <td>NaN</td>\n",
       "      <td>NaN</td>\n",
       "      <td>NaN</td>\n",
       "      <td>0</td>\n",
       "      <td>NaN</td>\n",
       "      <td>NaN</td>\n",
       "      <td>NaN</td>\n",
       "    </tr>\n",
       "    <tr>\n",
       "      <th>3</th>\n",
       "      <td>09/06/2012 00:00:00</td>\n",
       "      <td>715902</td>\n",
       "      <td>7</td>\n",
       "      <td>5</td>\n",
       "      <td>S</td>\n",
       "      <td>OR</td>\n",
       "      <td>NaN</td>\n",
       "      <td>10</td>\n",
       "      <td>100</td>\n",
       "      <td>2.0</td>\n",
       "      <td>0.0030</td>\n",
       "      <td>NaN</td>\n",
       "      <td>10</td>\n",
       "      <td>2.0</td>\n",
       "      <td>0.0030</td>\n",
       "      <td>NaN</td>\n",
       "      <td>1</td>\n",
       "      <td>NaN</td>\n",
       "      <td>NaN</td>\n",
       "      <td>NaN</td>\n",
       "    </tr>\n",
       "    <tr>\n",
       "      <th>4</th>\n",
       "      <td>09/06/2012 00:00:00</td>\n",
       "      <td>715903</td>\n",
       "      <td>7</td>\n",
       "      <td>5</td>\n",
       "      <td>N</td>\n",
       "      <td>OR</td>\n",
       "      <td>NaN</td>\n",
       "      <td>0</td>\n",
       "      <td>0</td>\n",
       "      <td>NaN</td>\n",
       "      <td>NaN</td>\n",
       "      <td>NaN</td>\n",
       "      <td>0</td>\n",
       "      <td>NaN</td>\n",
       "      <td>NaN</td>\n",
       "      <td>NaN</td>\n",
       "      <td>0</td>\n",
       "      <td>NaN</td>\n",
       "      <td>NaN</td>\n",
       "      <td>NaN</td>\n",
       "    </tr>\n",
       "  </tbody>\n",
       "</table>\n",
       "</div>"
      ],
      "text/plain": [
       "             Timestamp  Station  District  Freeway# Direction Lane Type  \\\n",
       "0  09/06/2012 00:00:00   715898         7         5         S        ML   \n",
       "1  09/06/2012 00:00:00   715900         7         5         S        OR   \n",
       "2  09/06/2012 00:00:00   715901         7         5         N        OR   \n",
       "3  09/06/2012 00:00:00   715902         7         5         S        OR   \n",
       "4  09/06/2012 00:00:00   715903         7         5         N        OR   \n",
       "\n",
       "   Station Length  numSamples  percentObs  Total Flow  Avg Occupancy  \\\n",
       "0            0.43          30         100       147.0         0.0372   \n",
       "1             NaN          10           0         NaN            NaN   \n",
       "2             NaN           0           0         NaN            NaN   \n",
       "3             NaN          10         100         2.0         0.0030   \n",
       "4             NaN           0           0         NaN            NaN   \n",
       "\n",
       "   Avg Speed  Lane N Samples  Lane N Flow  Lane N Avg Occ  Lane N Avg Speed  \\\n",
       "0       69.2              10         43.0          0.0236              71.9   \n",
       "1        NaN              10          NaN             NaN               NaN   \n",
       "2        NaN               0          NaN             NaN               NaN   \n",
       "3        NaN              10          2.0          0.0030               NaN   \n",
       "4        NaN               0          NaN             NaN               NaN   \n",
       "\n",
       "   Lane N Observed    17    18      19  \n",
       "0                1  10.0  62.0  0.0384  \n",
       "1                0   NaN   NaN     NaN  \n",
       "2                0   NaN   NaN     NaN  \n",
       "3                1   NaN   NaN     NaN  \n",
       "4                0   NaN   NaN     NaN  "
      ]
     },
     "execution_count": 4,
     "metadata": {},
     "output_type": "execute_result"
    }
   ],
   "source": [
    "five_min.head().iloc[:,0:20]"
   ]
  },
  {
   "cell_type": "code",
   "execution_count": 5,
   "metadata": {},
   "outputs": [
    {
     "data": {
      "text/plain": [
       "0            5\n",
       "1            5\n",
       "2            5\n",
       "3            5\n",
       "4            5\n",
       "          ... \n",
       "1329691    710\n",
       "1329692    710\n",
       "1329693    710\n",
       "1329694    710\n",
       "1329695    710\n",
       "Name: Freeway#, Length: 1329696, dtype: int64"
      ]
     },
     "execution_count": 5,
     "metadata": {},
     "output_type": "execute_result"
    }
   ],
   "source": [
    "five_min['Freeway#']"
   ]
  },
  {
   "cell_type": "markdown",
   "metadata": {},
   "source": [
    "# Metadata"
   ]
  },
  {
   "cell_type": "code",
   "execution_count": 6,
   "metadata": {
    "scrolled": true
   },
   "outputs": [
    {
     "data": {
      "text/html": [
       "<div>\n",
       "<style scoped>\n",
       "    .dataframe tbody tr th:only-of-type {\n",
       "        vertical-align: middle;\n",
       "    }\n",
       "\n",
       "    .dataframe tbody tr th {\n",
       "        vertical-align: top;\n",
       "    }\n",
       "\n",
       "    .dataframe thead th {\n",
       "        text-align: right;\n",
       "    }\n",
       "</style>\n",
       "<table border=\"1\" class=\"dataframe\">\n",
       "  <thead>\n",
       "    <tr style=\"text-align: right;\">\n",
       "      <th></th>\n",
       "      <th>ID</th>\n",
       "      <th>Fwy</th>\n",
       "      <th>Dir</th>\n",
       "      <th>District</th>\n",
       "      <th>County</th>\n",
       "      <th>City</th>\n",
       "      <th>State_PM</th>\n",
       "      <th>Abs_PM</th>\n",
       "      <th>Latitude</th>\n",
       "      <th>Longitude</th>\n",
       "      <th>Length</th>\n",
       "      <th>Type</th>\n",
       "      <th>Lanes</th>\n",
       "      <th>Name</th>\n",
       "      <th>User_ID_1</th>\n",
       "      <th>User_ID_2</th>\n",
       "      <th>User_ID_3</th>\n",
       "      <th>User_ID_4</th>\n",
       "    </tr>\n",
       "  </thead>\n",
       "  <tbody>\n",
       "    <tr>\n",
       "      <th>0</th>\n",
       "      <td>715898</td>\n",
       "      <td>5</td>\n",
       "      <td>S</td>\n",
       "      <td>7</td>\n",
       "      <td>37</td>\n",
       "      <td>40032.0</td>\n",
       "      <td>.71</td>\n",
       "      <td>117.280</td>\n",
       "      <td>33.880183</td>\n",
       "      <td>-118.021787</td>\n",
       "      <td>0.43</td>\n",
       "      <td>ML</td>\n",
       "      <td>3</td>\n",
       "      <td>PHOEBE</td>\n",
       "      <td>2029</td>\n",
       "      <td>NaN</td>\n",
       "      <td>NaN</td>\n",
       "      <td>NaN</td>\n",
       "    </tr>\n",
       "    <tr>\n",
       "      <th>1</th>\n",
       "      <td>715900</td>\n",
       "      <td>5</td>\n",
       "      <td>S</td>\n",
       "      <td>7</td>\n",
       "      <td>37</td>\n",
       "      <td>40032.0</td>\n",
       "      <td>1.06</td>\n",
       "      <td>117.630</td>\n",
       "      <td>33.882892</td>\n",
       "      <td>-118.026822</td>\n",
       "      <td>NaN</td>\n",
       "      <td>OR</td>\n",
       "      <td>1</td>\n",
       "      <td>VALLEY VIEW</td>\n",
       "      <td>3255</td>\n",
       "      <td>NaN</td>\n",
       "      <td>NaN</td>\n",
       "      <td>NaN</td>\n",
       "    </tr>\n",
       "    <tr>\n",
       "      <th>2</th>\n",
       "      <td>715901</td>\n",
       "      <td>5</td>\n",
       "      <td>N</td>\n",
       "      <td>7</td>\n",
       "      <td>37</td>\n",
       "      <td>40032.0</td>\n",
       "      <td>1.11</td>\n",
       "      <td>117.743</td>\n",
       "      <td>33.883400</td>\n",
       "      <td>-118.027451</td>\n",
       "      <td>NaN</td>\n",
       "      <td>OR</td>\n",
       "      <td>1</td>\n",
       "      <td>VALLEY VIEW</td>\n",
       "      <td>3268</td>\n",
       "      <td>NaN</td>\n",
       "      <td>NaN</td>\n",
       "      <td>NaN</td>\n",
       "    </tr>\n",
       "    <tr>\n",
       "      <th>3</th>\n",
       "      <td>715902</td>\n",
       "      <td>5</td>\n",
       "      <td>S</td>\n",
       "      <td>7</td>\n",
       "      <td>37</td>\n",
       "      <td>69154.0</td>\n",
       "      <td>1.67</td>\n",
       "      <td>118.240</td>\n",
       "      <td>33.887779</td>\n",
       "      <td>-118.035849</td>\n",
       "      <td>NaN</td>\n",
       "      <td>OR</td>\n",
       "      <td>1</td>\n",
       "      <td>ALONDRA</td>\n",
       "      <td>3254</td>\n",
       "      <td>NaN</td>\n",
       "      <td>NaN</td>\n",
       "      <td>NaN</td>\n",
       "    </tr>\n",
       "    <tr>\n",
       "      <th>4</th>\n",
       "      <td>715903</td>\n",
       "      <td>5</td>\n",
       "      <td>N</td>\n",
       "      <td>7</td>\n",
       "      <td>37</td>\n",
       "      <td>69154.0</td>\n",
       "      <td>1.56</td>\n",
       "      <td>118.193</td>\n",
       "      <td>33.886992</td>\n",
       "      <td>-118.034125</td>\n",
       "      <td>NaN</td>\n",
       "      <td>OR</td>\n",
       "      <td>1</td>\n",
       "      <td>ALONDRA</td>\n",
       "      <td>3269</td>\n",
       "      <td>NaN</td>\n",
       "      <td>NaN</td>\n",
       "      <td>NaN</td>\n",
       "    </tr>\n",
       "  </tbody>\n",
       "</table>\n",
       "</div>"
      ],
      "text/plain": [
       "       ID  Fwy Dir  District  County     City State_PM   Abs_PM   Latitude  \\\n",
       "0  715898    5   S         7      37  40032.0      .71  117.280  33.880183   \n",
       "1  715900    5   S         7      37  40032.0     1.06  117.630  33.882892   \n",
       "2  715901    5   N         7      37  40032.0     1.11  117.743  33.883400   \n",
       "3  715902    5   S         7      37  69154.0     1.67  118.240  33.887779   \n",
       "4  715903    5   N         7      37  69154.0     1.56  118.193  33.886992   \n",
       "\n",
       "    Longitude  Length Type  Lanes         Name  User_ID_1  User_ID_2  \\\n",
       "0 -118.021787    0.43   ML      3       PHOEBE       2029        NaN   \n",
       "1 -118.026822     NaN   OR      1  VALLEY VIEW       3255        NaN   \n",
       "2 -118.027451     NaN   OR      1  VALLEY VIEW       3268        NaN   \n",
       "3 -118.035849     NaN   OR      1      ALONDRA       3254        NaN   \n",
       "4 -118.034125     NaN   OR      1      ALONDRA       3269        NaN   \n",
       "\n",
       "   User_ID_3  User_ID_4  \n",
       "0        NaN        NaN  \n",
       "1        NaN        NaN  \n",
       "2        NaN        NaN  \n",
       "3        NaN        NaN  \n",
       "4        NaN        NaN  "
      ]
     },
     "execution_count": 6,
     "metadata": {},
     "output_type": "execute_result"
    }
   ],
   "source": [
    "import matplotlib.pyplot as plt\n",
    "meta = pd.read_csv(\"./data/med07_text_meta_2012_09_06.txt\", sep=\"\\t\")\n",
    "meta.head()"
   ]
  },
  {
   "cell_type": "code",
   "execution_count": 7,
   "metadata": {
    "scrolled": false
   },
   "outputs": [
    {
     "data": {
      "image/png": "[encoded data removed]",
      "text/plain": [
       "<Figure size 432x288 with 1 Axes>"
      ]
     },
     "metadata": {
      "needs_background": "light"
     },
     "output_type": "display_data"
    }
   ],
   "source": [
    "plt.scatter(x=meta['Longitude'], y=meta['Latitude'])\n",
    "plt.show()"
   ]
  },
  {
   "cell_type": "markdown",
   "metadata": {},
   "source": [
    "# Analyse stuffs"
   ]
  },
  {
   "cell_type": "code",
   "execution_count": 8,
   "metadata": {},
   "outputs": [],
   "source": [
    "df = five_min.copy()"
   ]
  },
  {
   "cell_type": "code",
   "execution_count": 9,
   "metadata": {
    "scrolled": false
   },
   "outputs": [
    {
     "data": {
      "text/plain": [
       "Timestamp            object\n",
       "Station               int64\n",
       "District              int64\n",
       "Freeway#              int64\n",
       "Direction            object\n",
       "Lane Type            object\n",
       "Station Length      float64\n",
       "numSamples            int64\n",
       "percentObs            int64\n",
       "Total Flow          float64\n",
       "Avg Occupancy       float64\n",
       "Avg Speed           float64\n",
       "Lane N Samples        int64\n",
       "Lane N Flow         float64\n",
       "Lane N Avg Occ      float64\n",
       "Lane N Avg Speed    float64\n",
       "Lane N Observed       int64\n",
       "17                  float64\n",
       "dtype: object"
      ]
     },
     "execution_count": 9,
     "metadata": {},
     "output_type": "execute_result"
    }
   ],
   "source": [
    "df.dtypes[:18]"
   ]
  },
  {
   "cell_type": "code",
   "execution_count": 10,
   "metadata": {
    "scrolled": true
   },
   "outputs": [
    {
     "data": {
      "text/plain": [
       "716450    288\n",
       "737320    288\n",
       "759844    288\n",
       "774189    288\n",
       "717833    288\n",
       "         ... \n",
       "774110    288\n",
       "716794    288\n",
       "717814    288\n",
       "774097    288\n",
       "717150    288\n",
       "Name: Station, Length: 4617, dtype: int64"
      ]
     },
     "execution_count": 10,
     "metadata": {},
     "output_type": "execute_result"
    }
   ],
   "source": [
    "df['Station'].value_counts() # 4617 staions, 288 timesteps/day"
   ]
  },
  {
   "cell_type": "code",
   "execution_count": 11,
   "metadata": {},
   "outputs": [],
   "source": [
    "speed = df[['Station', 'Avg Speed']]\n",
    "station_list = list(speed['Station'].value_counts().keys())"
   ]
  },
  {
   "cell_type": "code",
   "execution_count": 12,
   "metadata": {
    "scrolled": true
   },
   "outputs": [
    {
     "data": {
      "text/plain": [
       "3034       69.9\n",
       "7651       70.5\n",
       "12268      68.7\n",
       "16885      66.4\n",
       "21502      67.9\n",
       "           ... \n",
       "1309645    67.6\n",
       "1314262    69.2\n",
       "1318879    69.5\n",
       "1323496    69.9\n",
       "1328113    66.3\n",
       "Name: Avg Speed, Length: 288, dtype: float64"
      ]
     },
     "execution_count": 12,
     "metadata": {},
     "output_type": "execute_result"
    }
   ],
   "source": [
    "speed[speed['Station']==764824]['Avg Speed']"
   ]
  },
  {
   "cell_type": "code",
   "execution_count": 13,
   "metadata": {},
   "outputs": [],
   "source": [
    "station_chosen = []\n",
    "for station in station_list:\n",
    "    if speed[speed['Station']==station]['Avg Speed'].isna().sum() == 0:\n",
    "        station_chosen.append(station)"
   ]
  },
  {
   "cell_type": "code",
   "execution_count": 14,
   "metadata": {},
   "outputs": [
    {
     "data": {
      "text/plain": [
       "2580"
      ]
     },
     "execution_count": 14,
     "metadata": {},
     "output_type": "execute_result"
    }
   ],
   "source": [
    "len(station_chosen)"
   ]
  },
  {
   "cell_type": "code",
   "execution_count": 15,
   "metadata": {},
   "outputs": [
    {
     "data": {
      "text/html": [
       "<div>\n",
       "<style scoped>\n",
       "    .dataframe tbody tr th:only-of-type {\n",
       "        vertical-align: middle;\n",
       "    }\n",
       "\n",
       "    .dataframe tbody tr th {\n",
       "        vertical-align: top;\n",
       "    }\n",
       "\n",
       "    .dataframe thead th {\n",
       "        text-align: right;\n",
       "    }\n",
       "</style>\n",
       "<table border=\"1\" class=\"dataframe\">\n",
       "  <thead>\n",
       "    <tr style=\"text-align: right;\">\n",
       "      <th></th>\n",
       "      <th>Station</th>\n",
       "      <th>Avg Speed</th>\n",
       "    </tr>\n",
       "  </thead>\n",
       "  <tbody>\n",
       "    <tr>\n",
       "      <th>0</th>\n",
       "      <td>715898</td>\n",
       "      <td>69.2</td>\n",
       "    </tr>\n",
       "    <tr>\n",
       "      <th>16</th>\n",
       "      <td>715915</td>\n",
       "      <td>65.8</td>\n",
       "    </tr>\n",
       "    <tr>\n",
       "      <th>17</th>\n",
       "      <td>715916</td>\n",
       "      <td>70.4</td>\n",
       "    </tr>\n",
       "    <tr>\n",
       "      <th>19</th>\n",
       "      <td>715918</td>\n",
       "      <td>68.2</td>\n",
       "    </tr>\n",
       "    <tr>\n",
       "      <th>21</th>\n",
       "      <td>715920</td>\n",
       "      <td>68.0</td>\n",
       "    </tr>\n",
       "    <tr>\n",
       "      <th>...</th>\n",
       "      <td>...</td>\n",
       "      <td>...</td>\n",
       "    </tr>\n",
       "    <tr>\n",
       "      <th>1329687</th>\n",
       "      <td>774441</td>\n",
       "      <td>56.2</td>\n",
       "    </tr>\n",
       "    <tr>\n",
       "      <th>1329688</th>\n",
       "      <td>774442</td>\n",
       "      <td>63.5</td>\n",
       "    </tr>\n",
       "    <tr>\n",
       "      <th>1329689</th>\n",
       "      <td>774443</td>\n",
       "      <td>68.2</td>\n",
       "    </tr>\n",
       "    <tr>\n",
       "      <th>1329690</th>\n",
       "      <td>774444</td>\n",
       "      <td>40.4</td>\n",
       "    </tr>\n",
       "    <tr>\n",
       "      <th>1329691</th>\n",
       "      <td>774445</td>\n",
       "      <td>21.9</td>\n",
       "    </tr>\n",
       "  </tbody>\n",
       "</table>\n",
       "<p>743040 rows × 2 columns</p>\n",
       "</div>"
      ],
      "text/plain": [
       "         Station  Avg Speed\n",
       "0         715898       69.2\n",
       "16        715915       65.8\n",
       "17        715916       70.4\n",
       "19        715918       68.2\n",
       "21        715920       68.0\n",
       "...          ...        ...\n",
       "1329687   774441       56.2\n",
       "1329688   774442       63.5\n",
       "1329689   774443       68.2\n",
       "1329690   774444       40.4\n",
       "1329691   774445       21.9\n",
       "\n",
       "[743040 rows x 2 columns]"
      ]
     },
     "execution_count": 15,
     "metadata": {},
     "output_type": "execute_result"
    }
   ],
   "source": [
    "a = speed[speed['Station'].isin(station_chosen)]\n",
    "a"
   ]
  },
  {
   "cell_type": "code",
   "execution_count": null,
   "metadata": {},
   "outputs": [],
   "source": []
  },
  {
   "cell_type": "code",
   "execution_count": 16,
   "metadata": {},
   "outputs": [
    {
     "data": {
      "text/plain": [
       "743040"
      ]
     },
     "execution_count": 16,
     "metadata": {},
     "output_type": "execute_result"
    }
   ],
   "source": [
    "len(a)"
   ]
  },
  {
   "cell_type": "code",
   "execution_count": 17,
   "metadata": {},
   "outputs": [
    {
     "data": {
      "text/html": [
       "<div>\n",
       "<style scoped>\n",
       "    .dataframe tbody tr th:only-of-type {\n",
       "        vertical-align: middle;\n",
       "    }\n",
       "\n",
       "    .dataframe tbody tr th {\n",
       "        vertical-align: top;\n",
       "    }\n",
       "\n",
       "    .dataframe thead th {\n",
       "        text-align: right;\n",
       "    }\n",
       "</style>\n",
       "<table border=\"1\" class=\"dataframe\">\n",
       "  <thead>\n",
       "    <tr style=\"text-align: right;\">\n",
       "      <th></th>\n",
       "      <th>Incident ID</th>\n",
       "      <th>Timestamp</th>\n",
       "      <th>Description</th>\n",
       "      <th>Location</th>\n",
       "      <th>Area</th>\n",
       "      <th>Latitude</th>\n",
       "      <th>Longitude</th>\n",
       "      <th>District</th>\n",
       "      <th>Freeway Number</th>\n",
       "      <th>Freeway Direction</th>\n",
       "    </tr>\n",
       "  </thead>\n",
       "  <tbody>\n",
       "    <tr>\n",
       "      <th>0</th>\n",
       "      <td>13974973</td>\n",
       "      <td>05/07/2013 00:05:00</td>\n",
       "      <td>1183-Trfc Collision-Unkn Inj</td>\n",
       "      <td>Sr134 W / N Pacific Ave</td>\n",
       "      <td>Altadena</td>\n",
       "      <td>34.156272</td>\n",
       "      <td>-118.264356</td>\n",
       "      <td>7.0</td>\n",
       "      <td>134</td>\n",
       "      <td>W</td>\n",
       "    </tr>\n",
       "    <tr>\n",
       "      <th>1</th>\n",
       "      <td>13974974</td>\n",
       "      <td>05/07/2013 00:03:00</td>\n",
       "      <td>1125-Traffic Hazard</td>\n",
       "      <td>Sr110 N / Tunnel 1</td>\n",
       "      <td>Central LA</td>\n",
       "      <td>34.073814</td>\n",
       "      <td>-118.233242</td>\n",
       "      <td>7.0</td>\n",
       "      <td>110</td>\n",
       "      <td>N</td>\n",
       "    </tr>\n",
       "    <tr>\n",
       "      <th>2</th>\n",
       "      <td>13974975</td>\n",
       "      <td>05/07/2013 00:09:00</td>\n",
       "      <td>1182-Trfc Collision-No Inj</td>\n",
       "      <td>I8 E / College Wo</td>\n",
       "      <td>San Diego</td>\n",
       "      <td>32.779197</td>\n",
       "      <td>-117.070123</td>\n",
       "      <td>11.0</td>\n",
       "      <td>8</td>\n",
       "      <td>E</td>\n",
       "    </tr>\n",
       "    <tr>\n",
       "      <th>3</th>\n",
       "      <td>13974976</td>\n",
       "      <td>05/07/2013 00:06:00</td>\n",
       "      <td>1125-Traffic Hazard</td>\n",
       "      <td>0 I10 W I15 S Con</td>\n",
       "      <td>Rancho Cucamonga</td>\n",
       "      <td>34.065732</td>\n",
       "      <td>-117.545521</td>\n",
       "      <td>8.0</td>\n",
       "      <td>10</td>\n",
       "      <td>W</td>\n",
       "    </tr>\n",
       "    <tr>\n",
       "      <th>4</th>\n",
       "      <td>13974977</td>\n",
       "      <td>05/07/2013 00:03:00</td>\n",
       "      <td>1182-Trfc Collision-No Inj</td>\n",
       "      <td>Sr73 N / Macarthur Blvd</td>\n",
       "      <td>Santa Ana</td>\n",
       "      <td>33.642272</td>\n",
       "      <td>-117.859402</td>\n",
       "      <td>12.0</td>\n",
       "      <td>73</td>\n",
       "      <td>N</td>\n",
       "    </tr>\n",
       "  </tbody>\n",
       "</table>\n",
       "</div>"
      ],
      "text/plain": [
       "   Incident ID            Timestamp                   Description  \\\n",
       "0     13974973  05/07/2013 00:05:00  1183-Trfc Collision-Unkn Inj   \n",
       "1     13974974  05/07/2013 00:03:00           1125-Traffic Hazard   \n",
       "2     13974975  05/07/2013 00:09:00    1182-Trfc Collision-No Inj   \n",
       "3     13974976  05/07/2013 00:06:00           1125-Traffic Hazard   \n",
       "4     13974977  05/07/2013 00:03:00    1182-Trfc Collision-No Inj   \n",
       "\n",
       "                  Location              Area   Latitude   Longitude  District  \\\n",
       "0  Sr134 W / N Pacific Ave          Altadena  34.156272 -118.264356       7.0   \n",
       "1       Sr110 N / Tunnel 1        Central LA  34.073814 -118.233242       7.0   \n",
       "2        I8 E / College Wo         San Diego  32.779197 -117.070123      11.0   \n",
       "3        0 I10 W I15 S Con  Rancho Cucamonga  34.065732 -117.545521       8.0   \n",
       "4  Sr73 N / Macarthur Blvd         Santa Ana  33.642272 -117.859402      12.0   \n",
       "\n",
       "   Freeway Number Freeway Direction  \n",
       "0             134                 W  \n",
       "1             110                 N  \n",
       "2               8                 E  \n",
       "3              10                 W  \n",
       "4              73                 N  "
      ]
     },
     "execution_count": 17,
     "metadata": {},
     "output_type": "execute_result"
    }
   ],
   "source": [
    "incidences = pd.read_csv(\"./data/all_text_chp_incident_day_2013_05_07.txt.gz\", compression=\"gzip\", header=None)\n",
    "colnames = incidences.columns\n",
    "beginning_names = [\"Incident ID\",  \n",
    "                   \"CC Code\",  \n",
    "                   \"Incident Number\", \n",
    "                   \"Timestamp\",\n",
    "                   'Description', \n",
    "                   \"Location\", \n",
    "                   \"Area\", \n",
    "                   \"Zoom Map\", \n",
    "                   \"TB xy\", \n",
    "                   \"Latitude\", \n",
    "                   \"Longitude\",  \n",
    "                   \"District\", \n",
    "                   \"County FIPS ID\", \n",
    "                   \"City FIPS ID\", \n",
    "                   \"Freeway Number\",\n",
    "                   \"Freeway Direction\",\n",
    "                   \"State Postmile\", \n",
    "                   \"Absolute Postmile\",\n",
    "                   \"Severity\",\n",
    "                   \"Duration\"] # 1 indicates observed data, 0 indicates imputed.\n",
    "new_names = beginning_names + list(colnames[len(beginning_names):])\n",
    "incidences.columns = new_names\n",
    "incidences[['Incident ID', 'Timestamp', 'Description', 'Location', 'Area', 'Latitude', 'Longitude', 'District', 'Freeway Number', 'Freeway Direction']].head()"
   ]
  },
  {
   "cell_type": "code",
   "execution_count": 18,
   "metadata": {},
   "outputs": [
    {
     "data": {
      "text/plain": [
       "5      59\n",
       "101    46\n",
       "405    39\n",
       "10     33\n",
       "91     23\n",
       "Name: Freeway Number, dtype: int64"
      ]
     },
     "execution_count": 18,
     "metadata": {},
     "output_type": "execute_result"
    }
   ],
   "source": [
    "incidences['Freeway Number'].value_counts().head()"
   ]
  },
  {
   "cell_type": "code",
   "execution_count": 19,
   "metadata": {},
   "outputs": [
    {
     "name": "stdout",
     "output_type": "stream",
     "text": [
      "False\n"
     ]
    }
   ],
   "source": [
    "b = \"1179 NEED ASD\"\n",
    "c = '1173'\n",
    "print(c in b)"
   ]
  },
  {
   "cell_type": "code",
   "execution_count": 20,
   "metadata": {
    "scrolled": true
   },
   "outputs": [
    {
     "data": {
      "text/plain": [
       "405    174816\n",
       "10     170208\n",
       "210    145152\n",
       "5      127296\n",
       "101    104256\n",
       "605     86976\n",
       "60      77472\n",
       "118     72576\n",
       "105     63648\n",
       "91      57312\n",
       "110     51264\n",
       "134     46944\n",
       "710     42624\n",
       "57      21600\n",
       "14      19872\n",
       "2       19872\n",
       "23      19296\n",
       "170     13536\n",
       "90       5760\n",
       "71       5472\n",
       "47       3744\n",
       "Name: Freeway#, dtype: int64"
      ]
     },
     "execution_count": 20,
     "metadata": {},
     "output_type": "execute_result"
    }
   ],
   "source": [
    "five_min['Freeway#'].value_counts()"
   ]
  },
  {
   "cell_type": "code",
   "execution_count": 21,
   "metadata": {
    "scrolled": true
   },
   "outputs": [
    {
     "name": "stdout",
     "output_type": "stream",
     "text": [
      "before dropna:  (57320, 3)\n",
      "after dropna:  (46588, 3)\n",
      "No. rows with specific codes:  (36778, 3)\n",
      "districts_accidents_no:  {7: 12654, 4: 6704, 12: 3701, 8: 3698, 11: 2889, 3: 2444, 6: 1578, 5: 1311, 10: 1056, 2: 389, 1: 310, 9: 44}\n",
      "freeways_incidents_no:  {5: 4271, 101: 3840, 10: 2530, 405: 2345, 91: 1509, 80: 1429, 99: 1358, 15: 1349, 60: 1316, 210: 1130, 110: 964, 605: 838, 880: 740, 280: 666, 580: 630, 680: 616, 50: 590, 710: 584, 57: 563, 215: 539, 1: 414, 8: 409, 105: 399, 805: 342, 4: 340, 55: 334, 118: 330, 134: 308, 22: 278, 14: 258, 51: 256, 41: 249, 17: 234, 85: 195, 78: 186, 24: 181, 170: 162, 94: 154, 2: 153, 163: 136, 87: 131, 52: 116, 92: 113, 58: 111, 180: 91, 65: 86, 198: 84, 29: 79, 125: 75, 299: 72, 12: 71, 71: 71, 73: 68, 74: 65, 33: 63, 126: 59, 395: 59, 152: 59, 120: 58, 168: 56, 23: 54, 237: 54, 20: 53, 54: 52, 178: 51, 49: 50, 140: 48, 18: 48, 67: 45, 242: 45, 76: 45, 780: 44, 241: 43, 43: 42, 44: 42, 70: 38, 9: 38, 238: 37, 84: 36, 205: 35, 108: 35, 37: 34, 89: 31, 79: 30, 113: 30, 132: 29, 116: 29, 46: 28, 62: 27, 88: 27, 13: 25, 138: 24, 90: 24, 86: 23, 47: 22, 133: 22, 160: 21, 26: 20, 156: 20, 129: 19, 190: 19, 38: 19, 166: 18, 119: 18, 56: 18, 154: 18, 111: 18, 59: 18, 35: 17, 68: 16, 3: 16, 980: 16, 505: 15, 40: 13, 380: 13, 905: 13, 128: 13, 227: 12, 32: 12, 150: 11, 121: 11, 165: 11, 145: 11, 28: 11, 246: 9, 184: 9, 371: 9, 259: 9, 82: 9, 97: 8, 63: 8, 135: 8, 130: 8, 221: 7, 185: 7, 83: 7, 330: 7, 243: 6, 175: 6, 25: 6, 192: 6, 96: 6, 199: 6, 261: 5, 183: 5, 36: 5, 204: 5, 201: 5, 34: 5, 95: 5, 219: 5, 247: 4, 273: 4, 149: 4, 236: 4, 39: 3, 217: 3, 200: 3, 416: 3, 173: 3, 123: 3, 202: 3, 216: 3, 223: 3, 16: 3, 189: 3, 115: 3, 131: 3, 284: 3, 137: 3, 162: 3, 155: 3, 262: 3, 218: 3, 98: 2, 255: 2, 75: 2, 263: 2, 306: 2, 267: 2, 112: 2, 203: 2, 139: 2, 158: 1, 620: 1, 127: 1, 45: 1, 256: 1, 320: 1, 196: 1, 253: 1, 229: 1, 142: 1, 271: 1, 176: 1, 304: 1, 264: 1, 146: 1, 53: 1, 6: 1}\n"
     ]
    }
   ],
   "source": [
    "import zipfile\n",
    "import pandas as pd\n",
    "\n",
    "accident_codes=['1179','1180','1181','1182','1183', '1125'] \n",
    "districts_accidents_no={}\n",
    "freeways_incidents_no={}\n",
    "\n",
    "    \n",
    "with zipfile.ZipFile('./data/newdata/all_text_chp_incidents_month_2012_01.txt.zip') as z:\n",
    "    with z.open(\"all_text_chp_incidents_month_2012_01.txt.gz\") as f:\n",
    "        incidents_month = pd.read_csv(f, header=None, compression=\"gzip\")\n",
    "        \n",
    "# select only columns: [incidence code, district, freeway]\n",
    "incidents_month=incidents_month[[4, 11, 14]]\n",
    "\n",
    "# drop na\n",
    "print('before dropna: ', incidents_month.shape)\n",
    "incidents_month = incidents_month.dropna()\n",
    "incidents_month[11] = incidents_month[11].astype('int32')\n",
    "print('after dropna: ', incidents_month.shape)\n",
    "\n",
    "# Choose only rows with specific codes\n",
    "incidents_month=incidents_month[incidents_month[4].str.contains('|'.join(accident_codes))]\n",
    "print('No. rows with specific codes: ',incidents_month.shape)\n",
    "\n",
    "# extract number of accidents in districts\n",
    "districts_name = incidents_month[11].value_counts().keys()\n",
    "for district in districts_name:\n",
    "    total_accidents = incidents_month[incidents_month[11]==district]\n",
    "    if district in districts_accidents_no:\n",
    "        districts_accidents_no[district] += total_accidents.shape[0]\n",
    "    else:\n",
    "        districts_accidents_no[district] = total_accidents.shape[0]\n",
    "\n",
    "# extract number of accidents in freeway\n",
    "freeways_name = incidents_month[14].value_counts().keys()\n",
    "for freeway in freeways_name:\n",
    "    total_accidents = incidents_month[incidents_month[14]==freeway]\n",
    "    if freeway in freeways_incidents_no:\n",
    "        freeways_incidents_no[freeway] += total_accidents.shape[0]\n",
    "    else:\n",
    "        freeways_incidents_no[freeway] = total_accidents.shape[0]\n",
    "\n",
    "print('districts_accidents_no: ', districts_accidents_no)\n",
    "print('freeways_incidents_no: ', freeways_incidents_no)\n",
    "\n",
    "# z.close()"
   ]
  },
  {
   "cell_type": "markdown",
   "metadata": {},
   "source": [
    "# Higher accident rate"
   ]
  },
  {
   "cell_type": "code",
   "execution_count": 49,
   "metadata": {},
   "outputs": [
    {
     "name": "stdout",
     "output_type": "stream",
     "text": [
      "Hello\n",
      "d07_text_meta_2012_09_06.txt\n",
      "d04_text_meta_2018_04_13.txt\n"
     ]
    }
   ],
   "source": [
    "\n",
    "\n",
    "def count_incidents(zip_file):\n",
    "    print('s')\n",
    "\n",
    "try:\n",
    "    the_zip_file = zipfile.ZipFile('./data/newdata/all_text_chp_incidents_day_2012_09_06.txt.zip')\n",
    "    print(the_zip_file.testzip())\n",
    "except:\n",
    "    print('Hello')\n",
    "    \n",
    "import glob, os\n",
    "os.chdir(\"./\")\n",
    "for file in glob.glob(\"*.txt\"):\n",
    "    print(file)\n",
    "\n",
    "# with zipfile.ZipFile('./data/newdata/all_text_chp_incidents_month_2012_07.txt.zip') as z:\n",
    "#     with z.open(\"all_text_chp_incidents_month_2012_07.txt.gz\") as f:\n",
    "#         incidents_month = pd.read_csv(f, header=None, compression=\"gzip\")"
   ]
  },
  {
   "cell_type": "code",
   "execution_count": 30,
   "metadata": {},
   "outputs": [],
   "source": [
    "t"
   ]
  },
  {
   "cell_type": "code",
   "execution_count": null,
   "metadata": {},
   "outputs": [],
   "source": []
  },
  {
   "cell_type": "code",
   "execution_count": null,
   "metadata": {},
   "outputs": [],
   "source": []
  },
  {
   "cell_type": "code",
   "execution_count": null,
   "metadata": {},
   "outputs": [],
   "source": []
  },
  {
   "cell_type": "code",
   "execution_count": null,
   "metadata": {},
   "outputs": [],
   "source": []
  },
  {
   "cell_type": "code",
   "execution_count": null,
   "metadata": {},
   "outputs": [],
   "source": []
  },
  {
   "cell_type": "code",
   "execution_count": null,
   "metadata": {},
   "outputs": [],
   "source": []
  },
  {
   "cell_type": "code",
   "execution_count": null,
   "metadata": {},
   "outputs": [],
   "source": []
  },
  {
   "cell_type": "code",
   "execution_count": null,
   "metadata": {},
   "outputs": [],
   "source": []
  },
  {
   "cell_type": "code",
   "execution_count": null,
   "metadata": {},
   "outputs": [],
   "source": []
  },
  {
   "cell_type": "code",
   "execution_count": null,
   "metadata": {},
   "outputs": [],
   "source": []
  },
  {
   "cell_type": "code",
   "execution_count": null,
   "metadata": {},
   "outputs": [],
   "source": []
  },
  {
   "cell_type": "code",
   "execution_count": null,
   "metadata": {},
   "outputs": [],
   "source": []
  }
 ],
 "metadata": {
  "kernelspec": {
   "display_name": "Python 3 (ipykernel)",
   "language": "python",
   "name": "python3"
  },
  "language_info": {
   "codemirror_mode": {
    "name": "ipython",
    "version": 3
   },
   "file_extension": ".py",
   "mimetype": "text/x-python",
   "name": "python",
   "nbconvert_exporter": "python",
   "pygments_lexer": "ipython3",
   "version": "3.7.10"
  }
 },
 "nbformat": 4,
 "nbformat_minor": 2
}
