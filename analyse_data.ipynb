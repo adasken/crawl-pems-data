{
 "cells": [
  {
   "cell_type": "code",
   "execution_count": null,
   "metadata": {},
   "outputs": [],
   "source": [
    "import pandas as pd\n",
    "import numpy as np"
   ]
  },
  {
   "cell_type": "markdown",
   "metadata": {},
   "source": [
    "# Loading the data in"
   ]
  },
  {
   "cell_type": "code",
   "execution_count": null,
   "metadata": {},
   "outputs": [],
   "source": [
    "five_min = pd.read_csv(\"./data/speeds/d07_text_station_5min_2012_09_06.txt.gz\", compression=\"gzip\", header=None)"
   ]
  },
  {
   "cell_type": "markdown",
   "metadata": {},
   "source": [
    "### Changing header names"
   ]
  },
  {
   "cell_type": "code",
   "execution_count": null,
   "metadata": {},
   "outputs": [],
   "source": [
    "colnames = five_min.columns\n",
    "beginning_names = [\"Timestamp\",  \n",
    "                   \"Station\", # Unique station identifier. Use this value to cross-reference with Metadata files. \n",
    "                   \"District\", \n",
    "                   \"Freeway#\",\n",
    "                   'Direction', # Direction of Travel\tN | S | E | W\n",
    "                   \"Lane Type\", # A string indicating the type of lane. CD (Coll/Dist); CH (Conventional Highway); FF (Fwy-Fwy connector); FR (Off Ramp); HV (HOV); ML (Mainline); OR (On Ramp)\n",
    "                   \"Station Length\", # Segment length covered by the station in miles/km.\n",
    "                   \"numSamples\", # Total number of samples received for all lanes.\n",
    "                   \"percentObs\", # (%) Percentage of individual lane points at this location that were observed (e.g. not imputed).\n",
    "                   \"Total Flow\", # (Veh/5-min) Sum of flows over the 5-minute period across all lanes. Note that the basic 5-minute rollup normalizes flow by the number of good samples received from the controller.\n",
    "                   \"Avg Occupancy\", # (%) Average occupancy across all lanes over the 5-minute period expressed as a decimal number between 0 and 1. \n",
    "                   \"Avg Speed\", # (mph) Flow-weighted average speed over the 5-minute period across all lanes. If flow is 0, mathematical average of 5-minute station speeds.\n",
    "                   \"Lane N Samples\", # Number of good samples received for lane N. N ranges from 1 to the number of lanes at the location.\n",
    "                   \"Lane N Flow\", # (Veh/5-min) Total flow for lane N over the 5-minute period normalized by the number of good samples.\n",
    "                   \"Lane N Avg Occ\", # (%) Average occupancy for lane N expressed as a decimal number between 0 and 1. N ranges from 1 to the number of lanes at the location.\n",
    "                   \"Lane N Avg Speed\", # (mph) Flow-weighted average of lane N speeds. If flow is 0, mathematical average of 5-minute lane speeds. N ranges from 1 to the number of lanes\n",
    "                   \"Lane N Observed\"] # 1 indicates observed data, 0 indicates imputed.\n",
    "new_names = beginning_names + list(colnames[len(beginning_names):])\n",
    "five_min.columns = new_names"
   ]
  },
  {
   "cell_type": "code",
   "execution_count": null,
   "metadata": {
    "scrolled": true
   },
   "outputs": [],
   "source": [
    "five_min.head().iloc[:,0:20]"
   ]
  },
  {
   "cell_type": "code",
   "execution_count": null,
   "metadata": {},
   "outputs": [],
   "source": [
    "five_min['Freeway#']"
   ]
  },
  {
   "cell_type": "markdown",
   "metadata": {},
   "source": [
    "# Metadata"
   ]
  },
  {
   "cell_type": "code",
   "execution_count": null,
   "metadata": {
    "scrolled": true
   },
   "outputs": [],
   "source": [
    "import matplotlib.pyplot as plt\n",
    "meta = pd.read_csv(\"./data/meta/d07_text_meta_2012_09_06.txt\", sep=\"\\t\")\n",
    "meta.head()"
   ]
  },
  {
   "cell_type": "code",
   "execution_count": null,
   "metadata": {
    "scrolled": false
   },
   "outputs": [],
   "source": [
    "plt.scatter(x=meta['Longitude'], y=meta['Latitude'])\n",
    "plt.show()"
   ]
  },
  {
   "cell_type": "markdown",
   "metadata": {},
   "source": [
    "# Analyse stuffs"
   ]
  },
  {
   "cell_type": "code",
   "execution_count": null,
   "metadata": {},
   "outputs": [],
   "source": [
    "df = five_min.copy()"
   ]
  },
  {
   "cell_type": "code",
   "execution_count": null,
   "metadata": {
    "scrolled": false
   },
   "outputs": [],
   "source": [
    "df.dtypes[:18]"
   ]
  },
  {
   "cell_type": "code",
   "execution_count": null,
   "metadata": {
    "scrolled": true
   },
   "outputs": [],
   "source": [
    "df['Station'].value_counts() # 4617 staions, 288 timesteps/day"
   ]
  },
  {
   "cell_type": "code",
   "execution_count": null,
   "metadata": {},
   "outputs": [],
   "source": [
    "speed = df[['Station', 'Avg Speed']]\n",
    "station_list = list(speed['Station'].value_counts().keys())"
   ]
  },
  {
   "cell_type": "code",
   "execution_count": null,
   "metadata": {
    "scrolled": true
   },
   "outputs": [],
   "source": [
    "speed[speed['Station']==764824]['Avg Speed']"
   ]
  },
  {
   "cell_type": "code",
   "execution_count": null,
   "metadata": {},
   "outputs": [],
   "source": [
    "station_chosen = []\n",
    "for station in station_list:\n",
    "    if speed[speed['Station']==station]['Avg Speed'].isna().sum() == 0:\n",
    "        station_chosen.append(station)"
   ]
  },
  {
   "cell_type": "code",
   "execution_count": null,
   "metadata": {},
   "outputs": [],
   "source": [
    "len(station_chosen)"
   ]
  },
  {
   "cell_type": "code",
   "execution_count": null,
   "metadata": {},
   "outputs": [],
   "source": [
    "a = speed[speed['Station'].isin(station_chosen)]\n",
    "a"
   ]
  },
  {
   "cell_type": "code",
   "execution_count": null,
   "metadata": {},
   "outputs": [],
   "source": [
    "len(a)"
   ]
  },
  {
   "cell_type": "code",
   "execution_count": null,
   "metadata": {},
   "outputs": [],
   "source": [
    "b = \"1179 NEED ASD\"\n",
    "c = '1173'\n",
    "print(c in b)"
   ]
  },
  {
   "cell_type": "code",
   "execution_count": null,
   "metadata": {
    "scrolled": true
   },
   "outputs": [],
   "source": [
    "# import zipfile\n",
    "# import pandas as pd\n",
    "\n",
    "# accident_codes=['1179','1180','1181','1182','1183', '1125'] \n",
    "# districts_accidents_no={}\n",
    "# freeways_incidents_no={}\n",
    "\n",
    "    \n",
    "# with zipfile.ZipFile('./data/incidents/all_text_chp_incidents_month_2012_01.txt.zip') as z:\n",
    "#     with z.open(\"all_text_chp_incidents_month_2012_01.txt.gz\") as f:\n",
    "#         incidents_month = pd.read_csv(f, header=None, compression=\"gzip\")\n",
    "        \n",
    "# # select only columns: [incidence code, district, freeway]\n",
    "# incidents_month=incidents_month[[4, 11, 14]]\n",
    "\n",
    "# # drop na\n",
    "# print('before dropna: ', incidents_month.shape)\n",
    "# incidents_month = incidents_month.dropna()\n",
    "# incidents_month[11] = incidents_month[11].astype('int32')\n",
    "# print('after dropna: ', incidents_month.shape)\n",
    "\n",
    "# # Choose only rows with specific codes\n",
    "# incidents_month=incidents_month[incidents_month[4].str.contains('|'.join(accident_codes))]\n",
    "# print('No. rows with specific codes: ',incidents_month.shape)\n",
    "\n",
    "# # extract number of accidents in districts\n",
    "# districts_name = incidents_month[11].value_counts().keys()\n",
    "# for district in districts_name:\n",
    "#     total_accidents = incidents_month[incidents_month[11]==district]\n",
    "#     if district in districts_accidents_no:\n",
    "#         districts_accidents_no[district] += total_accidents.shape[0]\n",
    "#     else:\n",
    "#         districts_accidents_no[district] = total_accidents.shape[0]\n",
    "\n",
    "# # extract number of accidents in freeway\n",
    "# freeways_name = incidents_month[14].value_counts().keys()\n",
    "# for freeway in freeways_name:\n",
    "#     total_accidents = incidents_month[incidents_month[14]==freeway]\n",
    "#     if freeway in freeways_incidents_no:\n",
    "#         freeways_incidents_no[freeway] += total_accidents.shape[0]\n",
    "#     else:\n",
    "#         freeways_incidents_no[freeway] = total_accidents.shape[0]\n",
    "\n",
    "# print('districts_accidents_no: ', districts_accidents_no)\n",
    "# print('freeways_incidents_no: ', freeways_incidents_no)\n",
    "\n",
    "# # z.close()"
   ]
  },
  {
   "cell_type": "markdown",
   "metadata": {},
   "source": [
    "# Higher accident rate"
   ]
  },
  {
   "cell_type": "code",
   "execution_count": 25,
   "metadata": {},
   "outputs": [
    {
     "name": "stdout",
     "output_type": "stream",
     "text": [
      "File found: ['./data/incidents/all_text_chp_incidents_month_2012_03.txt.zip', './data/incidents/all_text_chp_incidents_month_2012_04.txt.zip', './data/incidents/all_text_chp_incidents_month_2012_05.txt.zip', './data/incidents/all_text_chp_incidents_month_2013_04.txt.zip', './data/incidents/all_text_chp_incidents_month_2013_06.txt.zip', './data/incidents/all_text_chp_incidents_month_2013_03.txt.zip', './data/incidents/all_text_chp_incidents_month_2013_08.txt.zip', './data/incidents/all_text_chp_incidents_month_2012_11.txt.zip', './data/incidents/all_text_chp_incidents_month_2012_02.txt.zip', './data/incidents/all_text_chp_incidents_month_2013_09.txt.zip', './data/incidents/all_text_chp_incidents_month_2012_12.txt.zip', './data/incidents/all_text_chp_incidents_month_2013_12.txt.zip', './data/incidents/all_text_chp_incidents_month_2013_11.txt.zip', './data/incidents/all_text_chp_incidents_month_2013_05.txt.zip', './data/incidents/all_text_chp_incidents_month_2012_06.txt.zip', './data/incidents/all_text_chp_incidents_month_2013_07.txt.zip', './data/incidents/all_text_chp_incidents_month_2012_08.txt.zip', './data/incidents/all_text_chp_incidents_month_2012_09.txt.zip', './data/incidents/all_text_chp_incidents_month_2013_10.txt.zip', './data/incidents/all_text_chp_incidents_month_2013_01.txt.zip', './data/incidents/all_text_chp_incidents_month_2012_01.txt.zip', './data/incidents/all_text_chp_incidents_month_2012_07.txt.zip', './data/incidents/all_text_chp_incidents_month_2012_10.txt.zip', './data/incidents/all_text_chp_incidents_month_2013_02.txt.zip']\n",
      "---\n",
      "Scanning: all_text_chp_incidents_month_2012_03.txt.gz\n",
      "before dropna:  (61675, 3)\n",
      "after dropna:  (50959, 3)\n",
      "No. rows with specific codes:  (40148, 3)\n",
      "\u001b[92m\u001b[1mDone: all_text_chp_incidents_month_2012_03.txt.gz\u001b[0m\n",
      "---\n",
      "Scanning: all_text_chp_incidents_month_2012_04.txt.gz\n",
      "before dropna:  (57033, 3)\n",
      "after dropna:  (48295, 3)\n",
      "No. rows with specific codes:  (36699, 3)\n",
      "\u001b[92m\u001b[1mDone: all_text_chp_incidents_month_2012_04.txt.gz\u001b[0m\n",
      "---\n",
      "Scanning: all_text_chp_incidents_month_2012_05.txt.gz\n",
      "before dropna:  (50891, 3)\n",
      "after dropna:  (43508, 3)\n",
      "No. rows with specific codes:  (38055, 3)\n",
      "\u001b[92m\u001b[1mDone: all_text_chp_incidents_month_2012_05.txt.gz\u001b[0m\n",
      "---\n",
      "Scanning: all_text_chp_incidents_month_2013_04.txt.gz\n",
      "before dropna:  (36597, 3)\n",
      "after dropna:  (35988, 3)\n",
      "No. rows with specific codes:  (31947, 3)\n",
      "\u001b[92m\u001b[1mDone: all_text_chp_incidents_month_2013_04.txt.gz\u001b[0m\n",
      "---\n",
      "Scanning: all_text_chp_incidents_month_2013_06.txt.gz\n",
      "before dropna:  (41344, 3)\n",
      "after dropna:  (40724, 3)\n",
      "No. rows with specific codes:  (35971, 3)\n",
      "\u001b[92m\u001b[1mDone: all_text_chp_incidents_month_2013_06.txt.gz\u001b[0m\n",
      "---\n",
      "Scanning: all_text_chp_incidents_month_2013_03.txt.gz\n",
      "before dropna:  (39766, 3)\n",
      "after dropna:  (39087, 3)\n",
      "No. rows with specific codes:  (34955, 3)\n",
      "\u001b[92m\u001b[1mDone: all_text_chp_incidents_month_2013_03.txt.gz\u001b[0m\n",
      "---\n",
      "Scanning: all_text_chp_incidents_month_2013_08.txt.gz\n",
      "before dropna:  (18986, 3)\n",
      "after dropna:  (18720, 3)\n",
      "No. rows with specific codes:  (16765, 3)\n",
      "\u001b[92m\u001b[1mDone: all_text_chp_incidents_month_2013_08.txt.gz\u001b[0m\n",
      "---\n",
      "Scanning: all_text_chp_incidents_month_2012_11.txt.gz\n",
      "before dropna:  (24277, 3)\n",
      "after dropna:  (24006, 3)\n",
      "No. rows with specific codes:  (21577, 3)\n",
      "\u001b[92m\u001b[1mDone: all_text_chp_incidents_month_2012_11.txt.gz\u001b[0m\n",
      "---\n",
      "Scanning: all_text_chp_incidents_month_2012_02.txt.gz\n",
      "before dropna:  (53445, 3)\n",
      "after dropna:  (44019, 3)\n",
      "No. rows with specific codes:  (34688, 3)\n",
      "\u001b[92m\u001b[1mDone: all_text_chp_incidents_month_2012_02.txt.gz\u001b[0m\n",
      "---\n",
      "Scanning: all_text_chp_incidents_month_2013_09.txt.gz\n",
      "before dropna:  (40692, 3)\n",
      "after dropna:  (40156, 3)\n",
      "No. rows with specific codes:  (35683, 3)\n",
      "\u001b[92m\u001b[1mDone: all_text_chp_incidents_month_2013_09.txt.gz\u001b[0m\n",
      "---\n",
      "Scanning: all_text_chp_incidents_month_2012_12.txt.gz\n",
      "before dropna:  (29074, 3)\n",
      "after dropna:  (28787, 3)\n",
      "No. rows with specific codes:  (25991, 3)\n",
      "\u001b[92m\u001b[1mDone: all_text_chp_incidents_month_2012_12.txt.gz\u001b[0m\n",
      "---\n",
      "Scanning: all_text_chp_incidents_month_2013_12.txt.gz\n",
      "before dropna:  (38269, 3)\n",
      "after dropna:  (37837, 3)\n",
      "No. rows with specific codes:  (33812, 3)\n",
      "\u001b[92m\u001b[1mDone: all_text_chp_incidents_month_2013_12.txt.gz\u001b[0m\n",
      "---\n",
      "Scanning: all_text_chp_incidents_month_2013_11.txt.gz\n",
      "before dropna:  (38710, 3)\n",
      "after dropna:  (38231, 3)\n",
      "No. rows with specific codes:  (34137, 3)\n",
      "\u001b[92m\u001b[1mDone: all_text_chp_incidents_month_2013_11.txt.gz\u001b[0m\n",
      "---\n",
      "Scanning: all_text_chp_incidents_month_2013_05.txt.gz\n",
      "before dropna:  (40115, 3)\n",
      "after dropna:  (39466, 3)\n",
      "No. rows with specific codes:  (34961, 3)\n",
      "\u001b[92m\u001b[1mDone: all_text_chp_incidents_month_2013_05.txt.gz\u001b[0m\n",
      "---\n",
      "Scanning: all_text_chp_incidents_month_2012_06.txt.gz\n",
      "before dropna:  (42804, 3)\n",
      "after dropna:  (37960, 3)\n",
      "No. rows with specific codes:  (33236, 3)\n",
      "\u001b[92m\u001b[1mDone: all_text_chp_incidents_month_2012_06.txt.gz\u001b[0m\n",
      "---\n",
      "Scanning: all_text_chp_incidents_month_2013_07.txt.gz\n",
      "before dropna:  (41127, 3)\n",
      "after dropna:  (40503, 3)\n",
      "No. rows with specific codes:  (35863, 3)\n",
      "\u001b[92m\u001b[1mDone: all_text_chp_incidents_month_2013_07.txt.gz\u001b[0m\n",
      "---\n",
      "Scanning: all_text_chp_incidents_month_2012_08.txt.gz\n",
      "before dropna:  (43590, 3)\n",
      "after dropna:  (42821, 3)\n",
      "No. rows with specific codes:  (37806, 3)\n",
      "\u001b[92m\u001b[1mDone: all_text_chp_incidents_month_2012_08.txt.gz\u001b[0m\n",
      "---\n",
      "Scanning: all_text_chp_incidents_month_2012_09.txt.gz\n",
      "before dropna:  (40334, 3)\n",
      "after dropna:  (39759, 3)\n",
      "No. rows with specific codes:  (35063, 3)\n",
      "\u001b[92m\u001b[1mDone: all_text_chp_incidents_month_2012_09.txt.gz\u001b[0m\n",
      "---\n",
      "Scanning: all_text_chp_incidents_month_2013_10.txt.gz\n",
      "before dropna:  (42342, 3)\n",
      "after dropna:  (41723, 3)\n",
      "No. rows with specific codes:  (37125, 3)\n",
      "\u001b[92m\u001b[1mDone: all_text_chp_incidents_month_2013_10.txt.gz\u001b[0m\n",
      "---\n",
      "Scanning: all_text_chp_incidents_month_2013_01.txt.gz\n",
      "before dropna:  (28008, 3)\n",
      "after dropna:  (27444, 3)\n",
      "No. rows with specific codes:  (24717, 3)\n",
      "\u001b[92m\u001b[1mDone: all_text_chp_incidents_month_2013_01.txt.gz\u001b[0m\n",
      "---\n",
      "Scanning: all_text_chp_incidents_month_2012_01.txt.gz\n",
      "before dropna:  (57320, 3)\n",
      "after dropna:  (46588, 3)\n",
      "No. rows with specific codes:  (36778, 3)\n",
      "\u001b[92m\u001b[1mDone: all_text_chp_incidents_month_2012_01.txt.gz\u001b[0m\n",
      "---\n",
      "Scanning: all_text_chp_incidents_month_2012_07.txt.gz\n"
     ]
    },
    {
     "name": "stderr",
     "output_type": "stream",
     "text": [
      "/home/keni/venvs/venv-pull-data-pems/lib/python3.7/site-packages/IPython/core/interactiveshell.py:3524: DtypeWarning: Columns (7,8) have mixed types.Specify dtype option on import or set low_memory=False.\n",
      "  exec(code_obj, self.user_global_ns, self.user_ns)\n"
     ]
    },
    {
     "name": "stdout",
     "output_type": "stream",
     "text": [
      "before dropna:  (43620, 3)\n",
      "after dropna:  (40985, 3)\n",
      "No. rows with specific codes:  (35843, 3)\n",
      "\u001b[92m\u001b[1mDone: all_text_chp_incidents_month_2012_07.txt.gz\u001b[0m\n",
      "---\n",
      "Scanning: all_text_chp_incidents_month_2012_10.txt.gz\n",
      "before dropna:  (42229, 3)\n",
      "after dropna:  (41753, 3)\n",
      "No. rows with specific codes:  (37093, 3)\n",
      "\u001b[92m\u001b[1mDone: all_text_chp_incidents_month_2012_10.txt.gz\u001b[0m\n",
      "---\n",
      "Scanning: all_text_chp_incidents_month_2013_02.txt.gz\n",
      "before dropna:  (34496, 3)\n",
      "after dropna:  (33820, 3)\n",
      "No. rows with specific codes:  (30210, 3)\n",
      "\u001b[92m\u001b[1mDone: all_text_chp_incidents_month_2013_02.txt.gz\u001b[0m\n"
     ]
    }
   ],
   "source": [
    "import zipfile\n",
    "import pandas as pd\n",
    "import glob, os\n",
    "import matplotlib.pyplot as plt\n",
    "\n",
    "\n",
    "class bcolors:\n",
    "    OK = '\\033[92m\\033[1m' #GREEN\n",
    "    WARNING = '\\033[93m\\033[1m' #YELLOW\n",
    "    FAIL = '\\033[91m' #RED\n",
    "    RESET = '\\033[0m' #RESET COLOR\n",
    "\n",
    "\n",
    "def count_incidents_each_file(zip_file, gz_file):\n",
    "\n",
    "    with zipfile.ZipFile(zip_file) as z:\n",
    "        with z.open(gz_file) as f:\n",
    "            incidents_month = pd.read_csv(f, header=None, compression=\"gzip\")\n",
    "        \n",
    "    # select only columns: [incidence code, district, freeway]\n",
    "    incidents_month=incidents_month[[4, 11, 14]]\n",
    "\n",
    "    # drop na\n",
    "    print('before dropna: ', incidents_month.shape)\n",
    "    incidents_month = incidents_month.dropna()\n",
    "    incidents_month[11] = incidents_month[11].astype('int32')\n",
    "    print('after dropna: ', incidents_month.shape)\n",
    "\n",
    "    # Choose only rows with specific codes\n",
    "    incidents_month=incidents_month[incidents_month[4].str.contains('|'.join(accident_codes))]\n",
    "    print('No. rows with specific codes: ',incidents_month.shape)\n",
    "\n",
    "    # extract number of accidents in districts\n",
    "    districts_name = incidents_month[11].value_counts().keys()\n",
    "    for district in districts_name:\n",
    "        total_accidents = incidents_month[incidents_month[11]==district]\n",
    "        if district in districts_accidents_no:\n",
    "            districts_accidents_no[district] += total_accidents.shape[0]\n",
    "        else:\n",
    "            districts_accidents_no[district] = total_accidents.shape[0]\n",
    "\n",
    "    # extract number of accidents in freeway\n",
    "    freeways_name = incidents_month[14].value_counts().keys()\n",
    "    for freeway in freeways_name:\n",
    "        total_accidents = incidents_month[incidents_month[14]==freeway]\n",
    "        if freeway in freeways_incidents_no:\n",
    "            freeways_incidents_no[freeway] += total_accidents.shape[0]\n",
    "        else:\n",
    "            freeways_incidents_no[freeway] = total_accidents.shape[0]\n",
    "    \n",
    "\n",
    "def count_incidents_all_files(incidents_ospath):\n",
    "    \n",
    "    all_incidents_files = glob.glob(incidents_ospath + '*.txt.zip')\n",
    "    print('File found:', all_incidents_files)\n",
    "    for incidents_file in all_incidents_files:\n",
    "        gz_file = incidents_file[17:].replace('zip', 'gz')\n",
    "        print('---\\nScanning: {}'.format(gz_file))\n",
    "        try:\n",
    "            count_incidents_each_file(incidents_file, gz_file)\n",
    "        except:\n",
    "            print(bcolors.WARNING + \"File '{}' is corrupted\".format(gz_file) + bcolors.RESET)\n",
    "        else:\n",
    "            print(bcolors.OK + \"Done: {}\".format(gz_file) + bcolors.RESET)            \n",
    "\n",
    "incidents_path = './data/incidents/'\n",
    "accident_codes=['1179','1180','1181','1182','1183', '1125']\n",
    "districts_accidents_no={}\n",
    "freeways_incidents_no={}    \n",
    "    \n",
    "count_incidents_all_files(incidents_path)  \n",
    "#     print('districts_accidents_no: ', districts_accidents_no)\n",
    "#     print('freeways_incidents_no: ', freeways_incidents_no)    \n"
   ]
  },
  {
   "cell_type": "code",
   "execution_count": 26,
   "metadata": {},
   "outputs": [
    {
     "name": "stdout",
     "output_type": "stream",
     "text": [
      "districts_accidents_no:  {7: 269268, 4: 168800, 8: 93683, 12: 75385, 11: 68453, 3: 53426, 6: 20418, 5: 21147, 10: 18998, 2: 5314, 1: 3964, 9: 267}\n",
      "freeways_incidents_no:  {5: 99938, 101: 77701, 10: 55393, 405: 52008, 80: 39069, 91: 36460, 15: 36182, 60: 29048, 99: 24547, 210: 24825, 110: 21880, 605: 16829, 880: 19558, 580: 18174, 280: 16372, 680: 15741, 710: 13334, 50: 13072, 57: 10579, 105: 10164, 215: 14851, 8: 9750, 805: 9224, 134: 7380, 118: 6725, 4: 7099, 1: 5916, 55: 7950, 14: 6559, 17: 4568, 22: 5906, 51: 4733, 85: 4576, 78: 4360, 24: 4700, 170: 2911, 41: 2730, 2: 1133, 94: 3448, 163: 3033, 58: 1251, 52: 2354, 87: 2417, 92: 3129, 71: 1920, 65: 1294, 12: 1348, 180: 1587, 125: 1948, 18: 365, 198: 1247, 67: 856, 73: 1344, 54: 1138, 74: 405, 152: 1031, 205: 1372, 23: 1003, 126: 960, 395: 316, 241: 521, 120: 723, 29: 923, 37: 957, 237: 1692, 33: 471, 178: 413, 79: 298, 168: 808, 76: 226, 116: 225, 242: 947, 13: 559, 43: 145, 238: 850, 108: 138, 70: 853, 780: 702, 132: 124, 49: 231, 84: 878, 9: 127, 113: 459, 140: 116, 111: 140, 90: 463, 505: 481, 47: 236, 980: 466, 138: 176, 156: 217, 35: 191, 190: 117, 86: 195, 38: 115, 40: 746, 165: 60, 68: 217, 905: 270, 154: 86, 119: 65, 46: 94, 56: 605, 62: 157, 380: 481, 160: 372, 59: 65, 133: 313, 183: 26, 63: 38, 184: 39, 150: 31, 135: 89, 221: 80, 83: 63, 129: 41, 145: 40, 82: 145, 371: 63, 243: 40, 44: 351, 185: 61, 330: 106, 219: 25, 34: 20, 259: 111, 121: 106, 131: 37, 246: 30, 201: 13, 204: 56, 25: 28, 189: 34, 130: 39, 261: 80, 128: 59, 262: 31, 95: 21, 216: 15, 299: 322, 173: 28, 217: 47, 137: 16, 247: 26, 192: 12, 20: 453, 223: 20, 6: 10, 3: 26, 227: 26, 96: 10, 166: 37, 284: 7, 202: 21, 155: 20, 39: 8, 61: 6, 188: 2, 97: 15, 123: 14, 98: 34, 89: 77, 182: 3, 115: 16, 16: 5, 200: 9, 203: 6, 158: 6, 232: 1, 252: 3, 456: 1, 124: 1, 229: 2, 75: 136, 139: 3, 27: 3, 196: 2, 191: 1, 620: 2, 408: 1, 269: 2, 245: 3, 148: 1, 228: 1, 368: 1, 272: 1, 208: 1, 112: 6, 218: 4, 103: 33, 195: 4, 177: 10, 26: 27, 88: 46, 114: 2, 32: 15, 142: 3, 77: 1, 136: 2, 149: 47, 236: 6, 199: 20, 19: 17, 28: 18, 36: 8, 7: 3, 175: 8, 174: 2, 420: 2, 267: 4, 324: 1, 211: 1, 146: 2, 127: 2, 322: 1, 239: 1, 264: 2, 104: 1, 263: 3, 197: 1, 255: 4, 244: 1, 102: 1, 220: 1, 151: 2, 273: 4, 416: 3, 162: 3, 306: 2, 45: 1, 256: 1, 320: 1, 253: 1, 271: 1, 176: 1, 304: 1, 53: 1}\n"
     ]
    }
   ],
   "source": [
    "print('districts_accidents_no: ', districts_accidents_no)\n",
    "print('freeways_incidents_no: ', freeways_incidents_no) "
   ]
  },
  {
   "cell_type": "code",
   "execution_count": 27,
   "metadata": {},
   "outputs": [
    {
     "data": {
      "image/png": "[encoded data removed]",
      "text/plain": [
       "<Figure size 720x360 with 1 Axes>"
      ]
     },
     "metadata": {
      "needs_background": "light"
     },
     "output_type": "display_data"
    }
   ],
   "source": [
    "fig = plt.figure(figsize=(10,5))\n",
    "plt.bar(*zip(*districts_accidents_no.items()))\n",
    "plt.show()"
   ]
  },
  {
   "cell_type": "code",
   "execution_count": 28,
   "metadata": {},
   "outputs": [
    {
     "data": {
      "image/png": "[encoded data removed]",
      "text/plain": [
       "<Figure size 720x360 with 1 Axes>"
      ]
     },
     "metadata": {
      "needs_background": "light"
     },
     "output_type": "display_data"
    }
   ],
   "source": [
    "fig = plt.figure(figsize=(10,5))\n",
    "plt.bar(*zip(*freeways_incidents_no.items()))\n",
    "plt.show()"
   ]
  },
  {
   "cell_type": "code",
   "execution_count": 29,
   "metadata": {},
   "outputs": [
    {
     "data": {
      "text/plain": [
       "{232: 1,\n",
       " 456: 1,\n",
       " 124: 1,\n",
       " 191: 1,\n",
       " 408: 1,\n",
       " 148: 1,\n",
       " 228: 1,\n",
       " 368: 1,\n",
       " 272: 1,\n",
       " 208: 1,\n",
       " 77: 1,\n",
       " 324: 1,\n",
       " 211: 1,\n",
       " 322: 1,\n",
       " 239: 1,\n",
       " 104: 1,\n",
       " 197: 1,\n",
       " 244: 1,\n",
       " 102: 1,\n",
       " 220: 1,\n",
       " 45: 1,\n",
       " 256: 1,\n",
       " 320: 1,\n",
       " 253: 1,\n",
       " 271: 1,\n",
       " 176: 1,\n",
       " 304: 1,\n",
       " 53: 1,\n",
       " 188: 2,\n",
       " 229: 2,\n",
       " 196: 2,\n",
       " 620: 2,\n",
       " 269: 2,\n",
       " 114: 2,\n",
       " 136: 2,\n",
       " 174: 2,\n",
       " 420: 2,\n",
       " 146: 2,\n",
       " 127: 2,\n",
       " 264: 2,\n",
       " 151: 2,\n",
       " 306: 2,\n",
       " 182: 3,\n",
       " 252: 3,\n",
       " 139: 3,\n",
       " 27: 3,\n",
       " 245: 3,\n",
       " 142: 3,\n",
       " 7: 3,\n",
       " 263: 3,\n",
       " 416: 3,\n",
       " 162: 3,\n",
       " 218: 4,\n",
       " 195: 4,\n",
       " 267: 4,\n",
       " 255: 4,\n",
       " 273: 4,\n",
       " 16: 5,\n",
       " 61: 6,\n",
       " 203: 6,\n",
       " 158: 6,\n",
       " 112: 6,\n",
       " 236: 6,\n",
       " 284: 7,\n",
       " 39: 8,\n",
       " 36: 8,\n",
       " 175: 8,\n",
       " 200: 9,\n",
       " 6: 10,\n",
       " 96: 10,\n",
       " 177: 10,\n",
       " 192: 12,\n",
       " 201: 13,\n",
       " 123: 14,\n",
       " 216: 15,\n",
       " 97: 15,\n",
       " 32: 15,\n",
       " 137: 16,\n",
       " 115: 16,\n",
       " 19: 17,\n",
       " 28: 18,\n",
       " 34: 20,\n",
       " 223: 20,\n",
       " 155: 20,\n",
       " 199: 20,\n",
       " 95: 21,\n",
       " 202: 21,\n",
       " 219: 25,\n",
       " 183: 26,\n",
       " 247: 26,\n",
       " 3: 26,\n",
       " 227: 26,\n",
       " 26: 27,\n",
       " 25: 28,\n",
       " 173: 28,\n",
       " 246: 30,\n",
       " 150: 31,\n",
       " 262: 31,\n",
       " 103: 33,\n",
       " 189: 34,\n",
       " 98: 34,\n",
       " 131: 37,\n",
       " 166: 37,\n",
       " 63: 38,\n",
       " 184: 39,\n",
       " 130: 39,\n",
       " 145: 40,\n",
       " 243: 40,\n",
       " 129: 41,\n",
       " 88: 46,\n",
       " 217: 47,\n",
       " 149: 47,\n",
       " 204: 56,\n",
       " 128: 59,\n",
       " 165: 60,\n",
       " 185: 61,\n",
       " 83: 63,\n",
       " 371: 63,\n",
       " 119: 65,\n",
       " 59: 65,\n",
       " 89: 77,\n",
       " 221: 80,\n",
       " 261: 80,\n",
       " 154: 86,\n",
       " 135: 89,\n",
       " 46: 94,\n",
       " 330: 106,\n",
       " 121: 106,\n",
       " 259: 111,\n",
       " 38: 115,\n",
       " 140: 116,\n",
       " 190: 117,\n",
       " 132: 124,\n",
       " 9: 127,\n",
       " 75: 136,\n",
       " 108: 138,\n",
       " 111: 140,\n",
       " 43: 145,\n",
       " 82: 145,\n",
       " 62: 157,\n",
       " 138: 176,\n",
       " 35: 191,\n",
       " 86: 195,\n",
       " 156: 217,\n",
       " 68: 217,\n",
       " 116: 225,\n",
       " 76: 226,\n",
       " 49: 231,\n",
       " 47: 236,\n",
       " 905: 270,\n",
       " 79: 298,\n",
       " 133: 313,\n",
       " 395: 316,\n",
       " 299: 322,\n",
       " 44: 351,\n",
       " 18: 365,\n",
       " 160: 372,\n",
       " 74: 405,\n",
       " 178: 413,\n",
       " 20: 453,\n",
       " 113: 459,\n",
       " 90: 463,\n",
       " 980: 466,\n",
       " 33: 471,\n",
       " 505: 481,\n",
       " 380: 481,\n",
       " 241: 521,\n",
       " 13: 559,\n",
       " 56: 605,\n",
       " 780: 702,\n",
       " 120: 723,\n",
       " 40: 746,\n",
       " 168: 808,\n",
       " 238: 850,\n",
       " 70: 853,\n",
       " 67: 856,\n",
       " 84: 878,\n",
       " 29: 923,\n",
       " 242: 947,\n",
       " 37: 957,\n",
       " 126: 960,\n",
       " 23: 1003,\n",
       " 152: 1031,\n",
       " 2: 1133,\n",
       " 54: 1138,\n",
       " 198: 1247,\n",
       " 58: 1251,\n",
       " 65: 1294,\n",
       " 73: 1344,\n",
       " 12: 1348,\n",
       " 205: 1372,\n",
       " 180: 1587,\n",
       " 237: 1692,\n",
       " 71: 1920,\n",
       " 125: 1948,\n",
       " 52: 2354,\n",
       " 87: 2417,\n",
       " 41: 2730,\n",
       " 170: 2911,\n",
       " 163: 3033,\n",
       " 92: 3129,\n",
       " 94: 3448,\n",
       " 78: 4360,\n",
       " 17: 4568,\n",
       " 85: 4576,\n",
       " 24: 4700,\n",
       " 51: 4733,\n",
       " 22: 5906,\n",
       " 1: 5916,\n",
       " 14: 6559,\n",
       " 118: 6725,\n",
       " 4: 7099,\n",
       " 134: 7380,\n",
       " 55: 7950,\n",
       " 805: 9224,\n",
       " 8: 9750,\n",
       " 105: 10164,\n",
       " 57: 10579,\n",
       " 50: 13072,\n",
       " 710: 13334,\n",
       " 215: 14851,\n",
       " 680: 15741,\n",
       " 280: 16372,\n",
       " 605: 16829,\n",
       " 580: 18174,\n",
       " 880: 19558,\n",
       " 110: 21880,\n",
       " 99: 24547,\n",
       " 210: 24825,\n",
       " 60: 29048,\n",
       " 15: 36182,\n",
       " 91: 36460,\n",
       " 80: 39069,\n",
       " 405: 52008,\n",
       " 10: 55393,\n",
       " 101: 77701,\n",
       " 5: 99938}"
      ]
     },
     "execution_count": 29,
     "metadata": {},
     "output_type": "execute_result"
    }
   ],
   "source": [
    "{k: v for k, v in sorted(freeways_incidents_no.items(), key=lambda item: item[1])}"
   ]
  },
  {
   "cell_type": "code",
   "execution_count": null,
   "metadata": {},
   "outputs": [],
   "source": []
  },
  {
   "cell_type": "code",
   "execution_count": null,
   "metadata": {},
   "outputs": [],
   "source": []
  },
  {
   "cell_type": "code",
   "execution_count": null,
   "metadata": {},
   "outputs": [],
   "source": []
  },
  {
   "cell_type": "code",
   "execution_count": null,
   "metadata": {},
   "outputs": [],
   "source": []
  },
  {
   "cell_type": "code",
   "execution_count": null,
   "metadata": {},
   "outputs": [],
   "source": []
  },
  {
   "cell_type": "code",
   "execution_count": null,
   "metadata": {},
   "outputs": [],
   "source": []
  },
  {
   "cell_type": "code",
   "execution_count": null,
   "metadata": {},
   "outputs": [],
   "source": [
    "# incidences = pd.read_csv(\"./data/incidents/all_text_chp_incident_day_2012_09_06.txt.gz\", compression=\"gzip\", header=None)\n",
    "# colnames = incidences.columns\n",
    "# beginning_names = [\"Incident ID\",  \n",
    "#                    \"CC Code\",  \n",
    "#                    \"Incident Number\", \n",
    "#                    \"Timestamp\",\n",
    "#                    'Description', \n",
    "#                    \"Location\", \n",
    "#                    \"Area\", \n",
    "#                    \"Zoom Map\", \n",
    "#                    \"TB xy\", \n",
    "#                    \"Latitude\", \n",
    "#                    \"Longitude\",  \n",
    "#                    \"District\", \n",
    "#                    \"County FIPS ID\", \n",
    "#                    \"City FIPS ID\", \n",
    "#                    \"Freeway Number\",\n",
    "#                    \"Freeway Direction\",\n",
    "#                    \"State Postmile\", \n",
    "#                    \"Absolute Postmile\",\n",
    "#                    \"Severity\",\n",
    "#                    \"Duration\"] # 1 indicates observed data, 0 indicates imputed.\n",
    "# new_names = beginning_names + list(colnames[len(beginning_names):])\n",
    "# incidences.columns = new_names\n",
    "# incidences[['Incident ID', 'Timestamp', 'Description', 'Location', 'Area', 'Latitude', 'Longitude', 'District', 'Freeway Number', 'Freeway Direction']].head()"
   ]
  }
 ],
 "metadata": {
  "kernelspec": {
   "display_name": "Python 3 (ipykernel)",
   "language": "python",
   "name": "python3"
  },
  "language_info": {
   "codemirror_mode": {
    "name": "ipython",
    "version": 3
   },
   "file_extension": ".py",
   "mimetype": "text/x-python",
   "name": "python",
   "nbconvert_exporter": "python",
   "pygments_lexer": "ipython3",
   "version": "3.7.10"
  }
 },
 "nbformat": 4,
 "nbformat_minor": 2
}
