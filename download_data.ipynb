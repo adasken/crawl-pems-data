{
 "cells": [
  {
   "cell_type": "markdown",
   "metadata": {},
   "source": [
    "# CalTrans-PeMS\n",
    "### 1. Get Data"
   ]
  },
  {
   "cell_type": "markdown",
   "metadata": {},
   "source": [
    "# Setup Notebook"
   ]
  },
  {
   "cell_type": "code",
   "execution_count": 7,
   "metadata": {},
   "outputs": [
    {
     "name": "stdout",
     "output_type": "stream",
     "text": [
      "The autoreload extension is already loaded. To reload it, use:\n",
      "  %reload_ext autoreload\n"
     ]
    }
   ],
   "source": [
    "# Import 3rd party libraries\n",
    "import os\n",
    "import sys\n",
    "import pandas as pd\n",
    "\n",
    "# Local imports\n",
    "sys.path.insert(0, os.path.dirname(os.path.abspath(os.getcwd())))\n",
    "from pems.handler import PeMSHandler\n",
    "\n",
    "# Configure Notebook\n",
    "import warnings\n",
    "warnings.filterwarnings('ignore')\n",
    "%matplotlib inline\n",
    "%load_ext autoreload\n",
    "%autoreload 2\n",
    "\n",
    "class bcolors:\n",
    "    OK = '\\033[92m\\033[1m' #GREEN\n",
    "    WARNING = '\\033[93m\\033[1m' #YELLOW\n",
    "    FAIL = '\\033[91m\\033[1m' #RED\n",
    "    RESET = '\\033[0m\\033[1m' #RESET COLOR"
   ]
  },
  {
   "cell_type": "markdown",
   "metadata": {},
   "source": [
    "# Get PeMS Data"
   ]
  },
  {
   "cell_type": "code",
   "execution_count": 3,
   "metadata": {},
   "outputs": [
    {
     "name": "stdout",
     "output_type": "stream",
     "text": [
      "2022-04-25 21:00:12,252 [INFO    ] Requesting initial page...\n",
      "2022-04-25 21:00:13,950 [INFO    ] Initial page opened.\n",
      "2022-04-25 21:00:13,972 [INFO    ] Logging in...\n",
      "2022-04-25 21:00:32,661 [INFO    ] Logged in.\n"
     ]
    }
   ],
   "source": [
    "# Connect to PeMS\n",
    "pems = PeMSHandler(username='sebi.goodfellow@utoronto.ca', password='xG*apple3f')"
   ]
  },
  {
   "cell_type": "code",
   "execution_count": 3,
   "metadata": {},
   "outputs": [
    {
     "data": {
      "text/plain": [
       "{'fastrak_5min': 'FasTrak 5-Minute',\n",
       " 'gn_link_5min': 'Link 5-Minute',\n",
       " 'tmg_volume_day': 'Census Volume Day',\n",
       " 'reid_hour': 'Re-ID Hour',\n",
       " 'meta': 'Station Metadata',\n",
       " 'station_aadt': 'Station AADT',\n",
       " 'fastrak_locations': 'FasTrak Locations',\n",
       " 'tmg_trucks_day': 'Census Trucks Day',\n",
       " 'station_day': 'Station Day',\n",
       " 'chp_incidents_day': 'CHP Incidents Day',\n",
       " 'reid_raw': 'Re-ID Raw',\n",
       " 'station_hour': 'Station Hour',\n",
       " 'station_raw': 'Station Raw',\n",
       " 'fastrak_day': 'FasTrak Day',\n",
       " 'tmg_vclass_hour': 'Census V-Class Hour',\n",
       " 'station_5min': 'Station 5-Minute',\n",
       " 'fastrak_hour': 'FasTrak Hour',\n",
       " 'reid_5min': 'Re-ID 5-Minute',\n",
       " 'tmg_trucks_hour': 'Census Trucks Hour',\n",
       " 'tmg_vclass_day': 'Census V-Class Day',\n",
       " 'reid_locations': 'Re-ID Locations',\n",
       " 'tmg_station_configs': 'Census Station Configurations',\n",
       " 'chp_incidents_month': 'CHP Incidents Month'}"
      ]
     },
     "execution_count": 3,
     "metadata": {},
     "output_type": "execute_result"
    }
   ],
   "source": [
    "# View labels reference\n",
    "pems.label_reference"
   ]
  },
  {
   "cell_type": "code",
   "execution_count": 18,
   "metadata": {
    "scrolled": true
   },
   "outputs": [],
   "source": [
    "# Download files for (start_year, end_year, districts, file_types) query\n",
    "start_year = 2012\n",
    "end_year = 2012\n",
    "\n",
    "incidents_path= './data/incidents'\n",
    "meta_path = './data/meta'\n",
    "fivemins_path = './data/speeds'\n",
    "\n",
    "months = ['January', 'February', 'March', 'April', 'May', 'June', 'July', 'August', 'September', 'October', 'November', 'December']\n",
    "district_no = '7'"
   ]
  },
  {
   "cell_type": "code",
   "execution_count": null,
   "metadata": {},
   "outputs": [],
   "source": [
    "# Download 5mins file\n",
    "print(bcolors.OK + '\\n\\nDownload 5mins file...'  + bcolors.RESET)\n",
    "pems.download_files(start_year=start_year, end_year=end_year, districts=[district_no], \n",
    "                    file_types=['station_5min'], months=['May'], save_path=fivemins_path)\n",
    "print(bcolors.OK + '\\n\\nAll done' + bcolors.RESET)"
   ]
  },
  {
   "cell_type": "code",
   "execution_count": null,
   "metadata": {},
   "outputs": [],
   "source": [
    "# Download incidents file\n",
    "print(bcolors.OK + '\\n\\nDownload incidents file...'  + bcolors.RESET)\n",
    "pems.download_files(start_year=start_year, end_year=end_year, districts=[district_no], \n",
    "                    file_types=['chp_incidents_month'], months=['May'], save_path=incidents_path)\n",
    "print(bcolors.OK + '\\n\\nAll done' + bcolors.RESET)"
   ]
  },
  {
   "cell_type": "code",
   "execution_count": 13,
   "metadata": {},
   "outputs": [
    {
     "name": "stdout",
     "output_type": "stream",
     "text": [
      "2022-04-25 22:17:02,169 [INFO    ] Start download, all_text_chp_incidents_month_2012_01.txt.zip\n",
      "2022-04-25 22:17:09,378 [INFO    ] Download completed\n",
      "2022-04-25 22:17:14,388 [INFO    ] Start download, all_text_chp_incidents_month_2012_01.txt.zip\n",
      "2022-04-25 22:17:21,827 [INFO    ] Download completed\n",
      "2022-04-25 22:17:26,838 [INFO    ] Start download, all_text_chp_incidents_month_2012_05.txt.zip\n",
      "2022-04-25 22:17:33,676 [INFO    ] Download completed\n",
      "2022-04-25 22:17:38,686 [INFO    ] Start download, all_text_chp_incidents_month_2012_05.txt.zip\n",
      "2022-04-25 22:17:45,898 [INFO    ] Download completed\n",
      "2022-04-25 22:17:50,910 [INFO    ] Downloads complete, 4 files, 32.6 megabites\n"
     ]
    }
   ],
   "source": [
    "# Download meta file\n",
    "print(bcolors.OK + '\\n\\nDownload meta file...' + bcolors.RESET)\n",
    "pems.download_files(start_year=start_year, end_year=end_year, districts=[district_no], \n",
    "                    file_types=['meta'], months=['May'], save_path=meta_path)\n",
    "print(bcolors.OK + '\\n\\nAll done' + bcolors.RESET)"
   ]
  },
  {
   "cell_type": "code",
   "execution_count": 19,
   "metadata": {},
   "outputs": [
    {
     "name": "stdout",
     "output_type": "stream",
     "text": [
      "\u001b[92m\u001b[1m\n",
      "\n",
      "Download incidents file...\u001b[0m\u001b[1m\n",
      "2022-04-25 22:32:04,239 [INFO    ] Start download, all_text_chp_incidents_month_2012_01.txt.zip\n",
      "2022-04-25 22:32:11,871 [INFO    ] Download completed\n",
      "2022-04-25 22:32:16,882 [INFO    ] Start download, all_text_chp_incidents_month_2012_01.txt.zip\n",
      "2022-04-25 22:32:23,744 [INFO    ] Download completed\n",
      "2022-04-25 22:32:28,754 [INFO    ] Start download, all_text_chp_incidents_month_2012_02.txt.zip\n",
      "2022-04-25 22:32:35,761 [INFO    ] Download completed\n",
      "2022-04-25 22:32:40,771 [INFO    ] Start download, all_text_chp_incidents_month_2012_02.txt.zip\n",
      "2022-04-25 22:32:48,267 [INFO    ] Download completed\n",
      "2022-04-25 22:32:53,277 [INFO    ] Start download, all_text_chp_incidents_month_2012_03.txt.zip\n",
      "2022-04-25 22:33:01,017 [INFO    ] Download completed\n",
      "2022-04-25 22:33:06,027 [INFO    ] Start download, all_text_chp_incidents_month_2012_03.txt.zip\n",
      "2022-04-25 22:33:13,023 [INFO    ] Download completed\n",
      "2022-04-25 22:33:18,034 [INFO    ] Start download, all_text_chp_incidents_month_2012_04.txt.zip\n",
      "2022-04-25 22:33:25,424 [INFO    ] Download completed\n",
      "2022-04-25 22:33:30,434 [INFO    ] Start download, all_text_chp_incidents_month_2012_04.txt.zip\n",
      "2022-04-25 22:33:37,697 [INFO    ] Download completed\n",
      "2022-04-25 22:33:42,705 [INFO    ] Start download, all_text_chp_incidents_month_2012_05.txt.zip\n",
      "2022-04-25 22:33:50,202 [INFO    ] Download completed\n",
      "2022-04-25 22:33:55,212 [INFO    ] Start download, all_text_chp_incidents_month_2012_05.txt.zip\n",
      "2022-04-25 22:34:02,699 [INFO    ] Download completed\n",
      "2022-04-25 22:34:07,710 [INFO    ] Start download, all_text_chp_incidents_month_2012_06.txt.zip\n",
      "2022-04-25 22:34:14,629 [INFO    ] Download completed\n",
      "2022-04-25 22:34:19,639 [INFO    ] Start download, all_text_chp_incidents_month_2012_06.txt.zip\n",
      "2022-04-25 22:34:27,227 [INFO    ] Download completed\n",
      "2022-04-25 22:34:32,237 [INFO    ] Start download, all_text_chp_incidents_month_2012_07.txt.zip\n",
      "2022-04-25 22:34:39,815 [INFO    ] Download completed\n",
      "2022-04-25 22:34:44,825 [INFO    ] Start download, all_text_chp_incidents_month_2012_07.txt.zip\n",
      "2022-04-25 22:34:52,096 [INFO    ] Download completed\n",
      "2022-04-25 22:34:57,107 [INFO    ] Start download, all_text_chp_incidents_month_2012_08.txt.zip\n",
      "2022-04-25 22:35:04,875 [INFO    ] Download completed\n",
      "2022-04-25 22:35:09,885 [INFO    ] Start download, all_text_chp_incidents_month_2012_08.txt.zip\n",
      "2022-04-25 22:35:17,576 [INFO    ] Download completed\n",
      "2022-04-25 22:35:22,587 [INFO    ] Start download, all_text_chp_incidents_month_2012_09.txt.zip\n",
      "2022-04-25 22:35:30,377 [INFO    ] Download completed\n",
      "2022-04-25 22:35:35,387 [INFO    ] Start download, all_text_chp_incidents_month_2012_09.txt.zip\n",
      "2022-04-25 22:35:42,491 [INFO    ] Download completed\n",
      "2022-04-25 22:35:47,501 [INFO    ] Start download, all_text_chp_incidents_month_2012_10.txt.zip\n",
      "2022-04-25 22:35:52,512 [INFO    ] Download completed\n",
      "2022-04-25 22:35:57,523 [INFO    ] Start download, all_text_chp_incidents_month_2012_10.txt.zip\n",
      "2022-04-25 22:36:05,413 [INFO    ] Download completed\n",
      "2022-04-25 22:36:10,423 [INFO    ] Start download, all_text_chp_incidents_month_2012_11.txt.zip\n",
      "2022-04-25 22:36:17,777 [INFO    ] Download completed\n",
      "2022-04-25 22:36:22,788 [INFO    ] Start download, all_text_chp_incidents_month_2012_12.txt.zip\n",
      "2022-04-25 22:36:30,570 [INFO    ] Download completed\n",
      "2022-04-25 22:36:35,580 [INFO    ] Start download, all_text_chp_incidents_month_2012_12.txt.zip\n",
      "2022-04-25 22:36:42,205 [INFO    ] Download completed\n",
      "2022-04-25 22:36:47,215 [INFO    ] Start download, all_text_chp_incidents_month_2013_01.txt.zip\n",
      "2022-04-25 22:36:54,072 [INFO    ] Download completed\n",
      "2022-04-25 22:36:59,082 [INFO    ] Start download, all_text_chp_incidents_month_2013_02.txt.zip\n",
      "2022-04-25 22:37:06,487 [INFO    ] Download completed\n",
      "2022-04-25 22:37:11,498 [INFO    ] Start download, all_text_chp_incidents_month_2013_03.txt.zip\n",
      "2022-04-25 22:37:18,461 [INFO    ] Download completed\n",
      "2022-04-25 22:37:23,471 [INFO    ] Start download, all_text_chp_incidents_month_2013_04.txt.zip\n",
      "2022-04-25 22:37:31,017 [INFO    ] Download completed\n",
      "2022-04-25 22:37:36,027 [INFO    ] Start download, all_text_chp_incidents_month_2013_04.txt.zip\n",
      "2022-04-25 22:37:43,176 [INFO    ] Download completed\n",
      "2022-04-25 22:37:48,186 [INFO    ] Start download, all_text_chp_incidents_month_2013_05.txt.zip\n",
      "2022-04-25 22:37:55,969 [INFO    ] Download completed\n",
      "2022-04-25 22:38:00,979 [INFO    ] Start download, all_text_chp_incidents_month_2013_05.txt.zip\n",
      "2022-04-25 22:38:08,266 [INFO    ] Download completed\n",
      "2022-04-25 22:38:13,277 [INFO    ] Start download, all_text_chp_incidents_month_2013_06.txt.zip\n",
      "2022-04-25 22:38:21,639 [INFO    ] Download completed\n",
      "2022-04-25 22:38:26,649 [INFO    ] Start download, all_text_chp_incidents_month_2013_07.txt.zip\n",
      "2022-04-25 22:38:34,390 [INFO    ] Download completed\n",
      "2022-04-25 22:38:39,401 [INFO    ] Start download, all_text_chp_incidents_month_2013_08.txt.zip\n",
      "2022-04-25 22:38:46,897 [INFO    ] Download completed\n",
      "2022-04-25 22:38:51,907 [INFO    ] Start download, all_text_chp_incidents_month_2013_09.txt.zip\n",
      "2022-04-25 22:38:59,732 [INFO    ] Download completed\n",
      "2022-04-25 22:39:04,742 [INFO    ] Start download, all_text_chp_incidents_month_2013_09.txt.zip\n",
      "2022-04-25 22:39:12,753 [INFO    ] Download completed\n",
      "2022-04-25 22:39:17,763 [INFO    ] Start download, all_text_chp_incidents_month_2013_10.txt.zip\n",
      "2022-04-25 22:39:26,421 [INFO    ] Download completed\n",
      "2022-04-25 22:39:31,432 [INFO    ] Start download, all_text_chp_incidents_month_2013_11.txt.zip\n",
      "2022-04-25 22:39:38,981 [INFO    ] Download completed\n",
      "2022-04-25 22:39:43,991 [INFO    ] Start download, all_text_chp_incidents_month_2013_12.txt.zip\n",
      "2022-04-25 22:39:52,619 [INFO    ] Download completed\n",
      "2022-04-25 22:39:57,630 [INFO    ] Start download, all_text_chp_incidents_month_2013_12.txt.zip\n",
      "2022-04-25 22:40:06,223 [INFO    ] Download completed\n",
      "2022-04-25 22:40:11,234 [INFO    ] Downloads complete, 39 files, 330.2 megabites\n",
      "\u001b[92m\u001b[1m\n",
      "\n",
      "All done\u001b[0m\u001b[1m\n"
     ]
    }
   ],
   "source": [
    "# Download incidents file\n",
    "print(bcolors.OK + '\\n\\nDownload incidents file...'  + bcolors.RESET)\n",
    "pems.download_files(start_year=2012, end_year=2013, districts=[district_no], \n",
    "                    file_types=['chp_incidents_month'], months=months, save_path=incidents_path)\n",
    "print(bcolors.OK + '\\n\\nAll done' + bcolors.RESET)"
   ]
  },
  {
   "cell_type": "code",
   "execution_count": null,
   "metadata": {},
   "outputs": [],
   "source": []
  }
 ],
 "metadata": {
  "kernelspec": {
   "display_name": "Python 3 (ipykernel)",
   "language": "python",
   "name": "python3"
  },
  "language_info": {
   "codemirror_mode": {
    "name": "ipython",
    "version": 3
   },
   "file_extension": ".py",
   "mimetype": "text/x-python",
   "name": "python",
   "nbconvert_exporter": "python",
   "pygments_lexer": "ipython3",
   "version": "3.7.10"
  }
 },
 "nbformat": 4,
 "nbformat_minor": 4
}
